{
 "cells": [
  {
   "cell_type": "markdown",
   "metadata": {},
   "source": [
    "# Working with Pandas on a Netflix dataset - Solutions"
   ]
  },
  {
   "cell_type": "code",
   "execution_count": 1,
   "metadata": {},
   "outputs": [],
   "source": [
    "# Import pandas library\n",
    "import pandas as pd\n",
    "import numpy as np  # We'll use numpy for some operations"
   ]
  },
  {
   "cell_type": "markdown",
   "metadata": {},
   "source": [
    "## Exercise 1: Loading Data"
   ]
  },
  {
   "cell_type": "code",
   "execution_count": null,
   "metadata": {},
   "outputs": [],
   "source": [
    "# Load the CSV file into a DataFrame\n",
    "#netflix_df = pd.read_csv('path/to/your/folder/netflix_titles.csv')\n",
    "netflix_df = pd.read_csv('/Users/stefanodegiorgis/tmp/comp-data/exercises/03/netflix_titles.csv')\n",
    "\n",
    "# Display the first 5 rows\n",
    "netflix_df.head()"
   ]
  },
  {
   "cell_type": "markdown",
   "metadata": {},
   "source": [
    "## Exercise 2: Basic Information\n",
    "\n",
    "**Objective**: Get basic information about the DataFrame.\n",
    "\n",
    "- Display the shape (number of rows and columns) of the DataFrame.\n",
    "- Use the `info()` method to get a summary of the DataFrame, including the data types of each column and the number of non-null entries."
   ]
  },
  {
   "cell_type": "code",
   "execution_count": null,
   "metadata": {},
   "outputs": [],
   "source": [
    "# Display the shape of the DataFrame (rows, columns)\n",
    "print(\"Shape of DataFrame (rows, columns):\", netflix_df.shape)\n",
    "\n",
    "# Display information about the DataFrame\n",
    "print(\"\\nDataFrame Info:\")\n",
    "netflix_df.info()"
   ]
  },
  {
   "cell_type": "markdown",
   "metadata": {},
   "source": [
    "## Exercise 3: Indexing and Selection\n",
    "\n",
    "**Objective**: Select specific columns and rows from the DataFrame.\n",
    "\n",
    "- Select the `title`, `country`, and `release_year` columns and display the first 10 rows.\n",
    "- Select and display the row for the movie \"Dick Johnson Is Dead\" using boolean indexing."
   ]
  },
  {
   "cell_type": "code",
   "execution_count": null,
   "metadata": {},
   "outputs": [],
   "source": [
    "# We are creating a new object that is a subset of the original DataFrame\n",
    "# We are selecting the first 10 rows and only the 'title', 'country', and 'release_year' columns\n",
    "selected_columns = netflix_df[['title', 'country', 'release_year']].head(10)\n",
    "\n",
    "# As always, this line \"First 10 rows...\" is just a string that we are printing to help you understand what the output is\n",
    "# in terminal. In this case, we are printing the first 10 rows of the selected columns\n",
    "print(\"First 10 rows of selected columns:\")\n",
    "\n",
    "# In python script in VS Code you have to add a print statement to display the selected_columns, like this:\n",
    "#print(selected_columns)\n",
    "selected_columns"
   ]
  },
  {
   "cell_type": "code",
   "execution_count": null,
   "metadata": {},
   "outputs": [],
   "source": [
    "# Select the row for \"Dick Johnson Is Dead\" using boolean indexing, namely:\n",
    "# we are creating a new object that is a subset of the original DataFrame, and in particular we are\n",
    "# filtering for the title being equal to \"Dick Johnson is Dead\"\n",
    "dick_johnson = netflix_df[netflix_df['title'] == 'Dick Johnson Is Dead']\n",
    "print(\"\\nRow for 'Dick Johnson Is Dead':\")\n",
    "dick_johnson"
   ]
  },
  {
   "cell_type": "markdown",
   "metadata": {},
   "source": [
    "## Exercise 4: Slicing\n",
    "\n",
    "**Objective**: Use slicing to create a sub-DataFrame.\n",
    "\n",
    "- Create a sub-DataFrame containing only the first 20 entries of the Netflix dataset.\n",
    "- From this sub-DataFrame, select only the title and rating columns."
   ]
  },
  {
   "cell_type": "code",
   "execution_count": null,
   "metadata": {},
   "outputs": [],
   "source": [
    "# Create a sub-DataFrame with the first 20 entries\n",
    "sub_df = netflix_df.iloc[:20]\n",
    "print(\"Sub-DataFrame with first 20 entries:\")\n",
    "sub_df"
   ]
  },
  {
   "cell_type": "code",
   "execution_count": null,
   "metadata": {},
   "outputs": [],
   "source": [
    "# From the sub-DataFrame, we select only title and rating columns\n",
    "title_rating_df = sub_df[['title', 'rating']]\n",
    "print(\"\\nTitle and rating columns from sub-DataFrame:\")\n",
    "title_rating_df"
   ]
  },
  {
   "cell_type": "markdown",
   "metadata": {},
   "source": [
    "## Exercise 5: Basic Data Manipulation\n",
    "\n",
    "**Objective**: Add a new column to the DataFrame named duration_minutes that contains the duration of the show in minutes.\n",
    "\n",
    "For movies, extract the number of minutes directly. For TV shows, assume 10 episodes per season with each episode lasting 45 minutes."
   ]
  },
  {
   "cell_type": "code",
   "execution_count": null,
   "metadata": {},
   "outputs": [],
   "source": [
    "# First, let's look at some examples of duration values\n",
    "print(\"Sample duration values:\")\n",
    "print(netflix_df[['type', 'duration']].head(10))"
   ]
  },
  {
   "cell_type": "code",
   "execution_count": null,
   "metadata": {},
   "outputs": [],
   "source": [
    "# Function to convert duration to minutes\n",
    "def convert_to_minutes(row):\n",
    "    # Someone among you was asking how to deal with the NaN value.\n",
    "    # There is a specific method in pandas that does this, and it is isna(), which, in thi case, checks if duration is missing (NaN)\n",
    "    if pd.isna(row['duration']):\n",
    "        return None\n",
    "    \n",
    "    duration_str = row['duration']\n",
    "    \n",
    "    # For movies, extract minutes\n",
    "    if row['type'] == 'Movie':\n",
    "        if 'min' in duration_str:\n",
    "            # Extract the number before 'min'\n",
    "            # This solution actually assumes that the number of minutes is always the first number in the string\n",
    "            # Another possibility would be to use regular expressions to extract the characters which are numbers e.g. [0-9]+\n",
    "            minutes = int(duration_str.split(' ')[0])\n",
    "            return minutes\n",
    "    \n",
    "    # For TV shows, calculate minutes based on seasons\n",
    "    elif row['type'] == 'TV Show':\n",
    "        if 'Season' in duration_str or 'Seasons' in duration_str:\n",
    "            # Extract the number of seasons\n",
    "            seasons = int(duration_str.split(' ')[0])\n",
    "            # As suggested in the original notebook, we assume 10 episodes per season, 45 minutes per episode\n",
    "            # Therefore we simply multiply the number of seasons by 10 and by 45\n",
    "            return seasons * 10 * 45\n",
    "    \n",
    "    # Default case if format is unexpected\n",
    "    return None\n",
    "\n",
    "# Apply the function to each row to create new column\n",
    "netflix_df['duration_minutes'] = netflix_df.apply(convert_to_minutes, axis=1)\n",
    "\n",
    "# Display some results\n",
    "print(\"DataFrame with new duration_minutes column:\")\n",
    "netflix_df[['type', 'duration', 'duration_minutes']].head(10)"
   ]
  },
  {
   "cell_type": "markdown",
   "metadata": {},
   "source": [
    "## Exercise 6: Querying\n",
    "\n",
    "**Objective**: Use query methods to filter the DataFrame.\n",
    "\n",
    "- Filter the DataFrame to show only entries that are movies released in the year 2020 and later.\n",
    "- Further refine this query to show only movies with a rating of `PG-13`."
   ]
  },
  {
   "cell_type": "code",
   "execution_count": null,
   "metadata": {},
   "outputs": [],
   "source": [
    "# Filter for movies released in 2020 or later\n",
    "recent_movies = netflix_df[(netflix_df['type'] == 'Movie') & (netflix_df['release_year'] >= 2020)]\n",
    "print(f\"Number of movies released in 2020 or later: {len(recent_movies)}\")\n",
    "recent_movies.head()"
   ]
  },
  {
   "cell_type": "code",
   "execution_count": null,
   "metadata": {},
   "outputs": [],
   "source": [
    "# Further filter for PG-13 rated movies\n",
    "pg13_recent_movies = recent_movies[recent_movies['rating'] == 'PG-13']\n",
    "print(f\"Number of PG-13 rated movies released in 2020 or later: {len(pg13_recent_movies)}\")\n",
    "pg13_recent_movies.head()"
   ]
  },
  {
   "cell_type": "markdown",
   "metadata": {},
   "source": [
    "## Exercise 7: Grouping and Aggregating\n",
    "\n",
    "**Objective**: Analyze the Netflix dataset by performing grouping and aggregation operations.\n",
    "\n",
    "### Part 1: Count Content by Country\n",
    "Calculate the total number of Netflix titles for each country. Display the top 5 countries by total title count."
   ]
  },
  {
   "cell_type": "code",
   "execution_count": null,
   "metadata": {},
   "outputs": [],
   "source": [
    "# Group by country and count titles\n",
    "# First, we need to handle the case where some entries might have multiple countries (as it happens in this dataset)\n",
    "# We'll create a simplified approach by taking only the first country listed\n",
    "\n",
    "# Let's examine a few country entries to understand the format\n",
    "print(\"Sample country values:\")\n",
    "print(netflix_df['country'].head(10))"
   ]
  },
  {
   "cell_type": "code",
   "execution_count": null,
   "metadata": {},
   "outputs": [],
   "source": [
    "# Function to get the first country if multiple are listed\n",
    "def get_first_country(country_str):\n",
    "    # Check if the value is missing with isna()\n",
    "    if pd.isna(country_str):\n",
    "        return 'Unknown'\n",
    "    # Split by comma and take the first entry\n",
    "    return country_str.split(',')[0].strip()\n",
    "\n",
    "# Create a new column with the first country\n",
    "netflix_df['primary_country'] = netflix_df['country'].apply(get_first_country)\n",
    "\n",
    "# Group by primary_country and count titles\n",
    "# As you can see, as mentioned to some of you, we can concatenate multiple operations in a single line\n",
    "# In this case, we are grouping by the primary_country and then counting the number of titles for each country via calling\n",
    "# the size() method, and finally sorting the results in descending order\n",
    "# the operations will be performed in the order they are written\n",
    "country_counts = netflix_df.groupby('primary_country').size().sort_values(ascending=False)\n",
    "\n",
    "# Display the top 5 countries by title count\n",
    "print(\"Top 5 countries by title count:\")\n",
    "country_counts.head(5)"
   ]
  },
  {
   "cell_type": "markdown",
   "metadata": {},
   "source": [
    "### Part 2: Average Duration of Movies\n",
    "Find the average duration of movies across all available movies in the dataset."
   ]
  },
  {
   "cell_type": "code",
   "execution_count": null,
   "metadata": {},
   "outputs": [],
   "source": [
    "# Filter for movies only\n",
    "movies_only = netflix_df[netflix_df['type'] == 'Movie']\n",
    "\n",
    "# We can use the duration_minutes column we created earlier\n",
    "# The mean() method calculates the average of the values in the column\n",
    "avg_movie_duration = movies_only['duration_minutes'].mean()\n",
    "\n",
    "print(f\"Average movie duration: {avg_movie_duration:.2f} minutes\")"
   ]
  },
  {
   "cell_type": "markdown",
   "metadata": {},
   "source": [
    "## Exercise 8: Handling Missing Values\n",
    "\n",
    "**Objective**: Handle missing values in the DataFrame.\n",
    "\n",
    "- Identify columns with missing values and the count of missing values in each.\n",
    "- For the country column, replace missing values with a default value (e.g., \"Unknown\").\n",
    "- Drop any rows where the `title` or `release_year` is missing."
   ]
  },
  {
   "cell_type": "code",
   "execution_count": null,
   "metadata": {},
   "outputs": [],
   "source": [
    "# Count missing values in each column\n",
    "# We can use the isnull() method to create a DataFrame of booleans, where True indicates a missing value\n",
    "# We then use the sum() method to count the True values for each column\n",
    "missing_values = netflix_df.isnull().sum()\n",
    "print(\"Missing values by column:\")\n",
    "print(missing_values[missing_values > 0])  # Only show columns with missing values"
   ]
  },
  {
   "cell_type": "code",
   "execution_count": null,
   "metadata": {},
   "outputs": [],
   "source": [
    "# Replace missing values in the country column with \"Unknown\"\n",
    "netflix_df['country'] = netflix_df['country'].fillna(\"Unknown\")\n",
    "\n",
    "# Verify the change\n",
    "print(\"\\nMissing values in country column after filling:\", netflix_df['country'].isnull().sum())"
   ]
  },
  {
   "cell_type": "code",
   "execution_count": null,
   "metadata": {},
   "outputs": [],
   "source": [
    "# Drop rows where title or release_year is missing\n",
    "# First, let's see how many rows might be affected\n",
    "print(\"Rows with missing title:\", netflix_df['title'].isnull().sum())\n",
    "print(\"Rows with missing release_year:\", netflix_df['release_year'].isnull().sum())\n",
    "\n",
    "# Now drop the rows\n",
    "netflix_df_clean = netflix_df.dropna(subset=['title', 'release_year'])\n",
    "\n",
    "# Verify the shape after dropping\n",
    "print(\"\\nOriginal DataFrame shape:\", netflix_df.shape)\n",
    "print(\"Cleaned DataFrame shape:\", netflix_df_clean.shape)"
   ]
  },
  {
   "cell_type": "markdown",
   "metadata": {},
   "source": [
    "## Exercise 9: Exporting Data\n",
    "\n",
    "**Objective**: Export a modified DataFrame to a new CSV file.\n",
    "- Ensure that the index is not included in the exported file."
   ]
  },
  {
   "cell_type": "code",
   "execution_count": null,
   "metadata": {},
   "outputs": [],
   "source": [
    "# Export the cleaned DataFrame to a new CSV file without the index\n",
    "netflix_df_clean.to_csv('netflix_cleaned.csv', index=False)\n",
    "\n",
    "print(\"Exported cleaned DataFrame to 'netflix_cleaned.csv'\")"
   ]
  }
 ],
 "metadata": {
  "kernelspec": {
   "display_name": "Python (sandra)",
   "language": "python",
   "name": "sandra"
  },
  "language_info": {
   "codemirror_mode": {
    "name": "ipython",
    "version": 3
   },
   "file_extension": ".py",
   "mimetype": "text/x-python",
   "name": "python",
   "nbconvert_exporter": "python",
   "pygments_lexer": "ipython3",
   "version": "3.12.3"
  }
 },
 "nbformat": 4,
 "nbformat_minor": 4
}
