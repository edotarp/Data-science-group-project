{
 "cells": [
  {
   "cell_type": "code",
   "execution_count": 1,
   "id": "5042c977",
   "metadata": {},
   "outputs": [],
   "source": [
    "# from impl_to_play import JournalUploadHandler, CategoryUploadHandler, JournalQueryHandler, CategoryQueryHandler, FullQueryEngine\n",
    "from impl import JournalUploadHandler, CategoryUploadHandler, JournalQueryHandler, CategoryQueryHandler, FullQueryEngine\n",
    "# from impl_with_modification import JournalUploadHandler, CategoryUploadHandler, JournalQueryHandler, CategoryQueryHandler, BasicQueryEngine"
   ]
  },
  {
   "cell_type": "code",
   "execution_count": 2,
   "id": "47c146ac",
   "metadata": {},
   "outputs": [],
   "source": [
    "path = \"http://10.201.13.241:9999/blazegraph/\"\n",
    "grp_endpoint = f'{path}sparql'\n",
    "# java -server -Xmx1g -jar blazegraph.jar\n",
    "# python -m unittest test"
   ]
  },
  {
   "cell_type": "code",
   "execution_count": 3,
   "id": "ce8814da",
   "metadata": {},
   "outputs": [
    {
     "data": {
      "text/plain": [
       "True"
      ]
     },
     "execution_count": 3,
     "metadata": {},
     "output_type": "execute_result"
    }
   ],
   "source": [
    "# set Category methods\n",
    "\n",
    "real_path = 'trial.db'\n",
    "cat = CategoryUploadHandler()\n",
    "cat.setDbPathOrUrl(real_path)\n",
    "# cat.pushDataToDb('data/scimago.json')"
   ]
  },
  {
   "cell_type": "code",
   "execution_count": 4,
   "id": "456c0e96",
   "metadata": {},
   "outputs": [
    {
     "data": {
      "text/plain": [
       "True"
      ]
     },
     "execution_count": 4,
     "metadata": {},
     "output_type": "execute_result"
    }
   ],
   "source": [
    "cat_qh = CategoryQueryHandler()\n",
    "cat_qh.setDbPathOrUrl(real_path)"
   ]
  },
  {
   "cell_type": "code",
   "execution_count": 5,
   "id": "fc007877",
   "metadata": {},
   "outputs": [
    {
     "data": {
      "text/plain": [
       "True"
      ]
     },
     "execution_count": 5,
     "metadata": {},
     "output_type": "execute_result"
    }
   ],
   "source": [
    "# set Journal methods\n",
    "\n",
    "jou = JournalUploadHandler()\n",
    "jou.setDbPathOrUrl(grp_endpoint)\n",
    "# jou.pushDataToDb('test_data/doaj.csv')"
   ]
  },
  {
   "cell_type": "code",
   "execution_count": 6,
   "id": "2848de3a",
   "metadata": {},
   "outputs": [
    {
     "data": {
      "text/plain": [
       "True"
      ]
     },
     "execution_count": 6,
     "metadata": {},
     "output_type": "execute_result"
    }
   ],
   "source": [
    "jou_qh = JournalQueryHandler()\n",
    "jou_qh.setDbPathOrUrl(grp_endpoint)"
   ]
  },
  {
   "cell_type": "code",
   "execution_count": 7,
   "id": "e5632965",
   "metadata": {},
   "outputs": [
    {
     "data": {
      "text/plain": [
       "True"
      ]
     },
     "execution_count": 7,
     "metadata": {},
     "output_type": "execute_result"
    }
   ],
   "source": [
    "# set Engine methods\n",
    "\n",
    "que = FullQueryEngine()\n",
    "que.addJournalHandler(jou_qh)\n",
    "que.addCategoryHandler(cat_qh)"
   ]
  },
  {
   "cell_type": "code",
   "execution_count": 8,
   "id": "35e93ca4",
   "metadata": {},
   "outputs": [
    {
     "data": {
      "application/vnd.microsoft.datawrangler.viewer.v0+json": {
       "columns": [
        {
         "name": "index",
         "rawType": "int64",
         "type": "integer"
        }
       ],
       "conversionMethod": "pd.DataFrame",
       "ref": "97d78d8b-97fd-43e7-93f0-e07c6ef5f016",
       "rows": [],
       "shape": {
        "columns": 0,
        "rows": 0
       }
      },
      "text/html": [
       "<div>\n",
       "<style scoped>\n",
       "    .dataframe tbody tr th:only-of-type {\n",
       "        vertical-align: middle;\n",
       "    }\n",
       "\n",
       "    .dataframe tbody tr th {\n",
       "        vertical-align: top;\n",
       "    }\n",
       "\n",
       "    .dataframe thead th {\n",
       "        text-align: right;\n",
       "    }\n",
       "</style>\n",
       "<table border=\"1\" class=\"dataframe\">\n",
       "  <thead>\n",
       "    <tr style=\"text-align: right;\">\n",
       "      <th></th>\n",
       "    </tr>\n",
       "  </thead>\n",
       "  <tbody>\n",
       "  </tbody>\n",
       "</table>\n",
       "</div>"
      ],
      "text/plain": [
       "Empty DataFrame\n",
       "Columns: []\n",
       "Index: []"
      ]
     },
     "execution_count": 8,
     "metadata": {},
     "output_type": "execute_result"
    }
   ],
   "source": [
    "result_j1 = jou_qh.getById(\"just_a_test\") # 1676-1871,1676-3025\n",
    "# result_j1 = jou_qh.getAllJournals()\n",
    "# result_j1 = jou_qh.getJournalsWithTitle('Cuadernos de Lingüística de El Colegio')\n",
    "# result_j1 = jou_qh.getJournalsPublishedBy('')\n",
    "# result_j1 = jou_qh.getJournalsWithLicense({})\n",
    "# result_j1 = jou_qh.getJournalsWithAPC()\n",
    "# result_j1 = jou_qh.getJournalsWithDOAJSeal()\n",
    "\n",
    "result_j1\n",
    "# CC BY, CC BY-NC"
   ]
  },
  {
   "cell_type": "code",
   "execution_count": 9,
   "id": "5baf5d46",
   "metadata": {},
   "outputs": [
    {
     "data": {
      "application/vnd.microsoft.datawrangler.viewer.v0+json": {
       "columns": [
        {
         "name": "index",
         "rawType": "int64",
         "type": "integer"
        },
        {
         "name": "identity",
         "rawType": "object",
         "type": "string"
        }
       ],
       "conversionMethod": "pd.DataFrame",
       "ref": "505aa97d-e3c8-4652-9925-fd874dda1385",
       "rows": [
        [
         "0",
         "Medicine"
        ]
       ],
       "shape": {
        "columns": 1,
        "rows": 1
       }
      },
      "text/html": [
       "<div>\n",
       "<style scoped>\n",
       "    .dataframe tbody tr th:only-of-type {\n",
       "        vertical-align: middle;\n",
       "    }\n",
       "\n",
       "    .dataframe tbody tr th {\n",
       "        vertical-align: top;\n",
       "    }\n",
       "\n",
       "    .dataframe thead th {\n",
       "        text-align: right;\n",
       "    }\n",
       "</style>\n",
       "<table border=\"1\" class=\"dataframe\">\n",
       "  <thead>\n",
       "    <tr style=\"text-align: right;\">\n",
       "      <th></th>\n",
       "      <th>identity</th>\n",
       "    </tr>\n",
       "  </thead>\n",
       "  <tbody>\n",
       "    <tr>\n",
       "      <th>0</th>\n",
       "      <td>Medicine</td>\n",
       "    </tr>\n",
       "  </tbody>\n",
       "</table>\n",
       "</div>"
      ],
      "text/plain": [
       "   identity\n",
       "0  Medicine"
      ]
     },
     "execution_count": 9,
     "metadata": {},
     "output_type": "execute_result"
    }
   ],
   "source": [
    "# result_c1 = cat_qh.getAllCategories()\n",
    "result_c1 = cat_qh.getById('Medicine')\n",
    "# result_c1 = cat_qh.getAllAreas()\n",
    "# result_c1 = cat_qh.getCategoriesWithQuartile({})\n",
    "# result_c1 = cat_qh.getCategoriesAssignedToAreas({})  \n",
    "# result_c1 = cat_qh.getAreasAssignedToCategories({}) \n",
    "\n",
    "# print(result_c1.loc[result_c1['category_id']=='Agronomy and Crop Science'])\n",
    "result_c1"
   ]
  },
  {
   "cell_type": "code",
   "execution_count": 14,
   "id": "4d7d33f8",
   "metadata": {},
   "outputs": [],
   "source": [
    "result_q1 = que.getEntityById(\"just_a_test\") # 2532-2615 2385-2615\n",
    "# result_q1 = que.getAllJournals()\n",
    "# result_q1 = que.getJournalsWithTitle('Cuadernos de Lingüística de El Colegio')\n",
    "# result_q1 = que.getJournalsPublishedBy('ITB Journal Publisher')\n",
    "# result_q1 = que.getJournalsWithLicense({'CC BY'})\n",
    "# result_q1 = que.getJournalsWithAPC()\n",
    "# result_q1 = que.getJournalsWithDOAJSeal()\n",
    "\n",
    "# result_q1 = que.getAllCategories()\n",
    "# result_q1 = que.getAllAreas()\n",
    "# result_q1 = que.getCategoriesWithQuartile({'Q1'})\n",
    "# result_q1 = que.getCategoriesAssignedToAreas({'Medicine'})\n",
    "# result_q1 = que.getAreasAssignedToCategories({'Artificial Intelligence', 'Oncology'})\n",
    "\n",
    "# result_q1 = que.getJournalsInCategoriesWithQuartile({}, {})\n",
    "# result_q1 = que.getJournalsInAreasWithLicense(area={}, license={})\n",
    "# result_q1 = que.getDiamondJournalsInAreasAndCategoriesWithQuartile({}, {}, {})\n",
    "\n",
    "result_q1\n",
    "# for j in result_q1:\n",
    "#     print(j.getCategories())"
   ]
  }
 ],
 "metadata": {
  "kernelspec": {
   "display_name": "peroni_test",
   "language": "python",
   "name": "python3"
  },
  "language_info": {
   "codemirror_mode": {
    "name": "ipython",
    "version": 3
   },
   "file_extension": ".py",
   "mimetype": "text/x-python",
   "name": "python",
   "nbconvert_exporter": "python",
   "pygments_lexer": "ipython3",
   "version": "3.8.20"
  }
 },
 "nbformat": 4,
 "nbformat_minor": 5
}
