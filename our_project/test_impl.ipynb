{
 "cells": [
  {
   "cell_type": "markdown",
   "id": "0b435015",
   "metadata": {},
   "source": [
    "#### Import classes"
   ]
  },
  {
   "cell_type": "code",
   "execution_count": 1,
   "id": "fb5f47d4",
   "metadata": {},
   "outputs": [],
   "source": [
    "from impl_with_modification import JournalUploadHandler, CategoryUploadHandler, JournalQueryHandler, CategoryQueryHandler, BasicQueryEngine\n"
   ]
  },
  {
   "cell_type": "code",
   "execution_count": 1,
   "id": "8503f142",
   "metadata": {},
   "outputs": [
    {
     "data": {
      "text/plain": [
       "True"
      ]
     },
     "execution_count": 1,
     "metadata": {},
     "output_type": "execute_result"
    }
   ],
   "source": [
    "from impl_with_modification import JournalUploadHandler, CategoryUploadHandler, JournalQueryHandler, CategoryQueryHandler, BasicQueryEngine\n",
    "path = ' http://10.201.19.160:9999/blazegraph/'\n",
    "grp_endpoint = f'{path}sparql'\n",
    "# java -server -Xmx1g -jar blazegraph.jar\n",
    "\n",
    "# set Journal methods\n",
    "\n",
    "jou = JournalUploadHandler()\n",
    "jou.setDbPathOrUrl(grp_endpoint)\n",
    "jou.pushDataToDb('test_data/doaj.csv')\n",
    "\n",
    "jou_qh = JournalQueryHandler()\n",
    "jou_qh.setDbPathOrUrl(grp_endpoint)\n",
    "\n",
    "# set Category methods\n",
    "\n",
    "real_path = 'trial.db'\n",
    "cat = CategoryUploadHandler()\n",
    "cat.setDbPathOrUrl(real_path)\n",
    "cat.pushDataToDb('test_data/scimago.json')\n",
    "\n",
    "cat_qh = CategoryQueryHandler()\n",
    "cat_qh.setDbPathOrUrl(real_path)\n",
    "\n",
    "# set Engine methods\n",
    "\n",
    "que = BasicQueryEngine()\n",
    "que.addJournalHandler(jou_qh)\n",
    "que.addCategoryHandler(cat_qh)"
   ]
  },
  {
   "cell_type": "markdown",
   "id": "979bde7d",
   "metadata": {},
   "source": [
    "#### Check JournalQueryHandler"
   ]
  },
  {
   "cell_type": "code",
   "execution_count": 2,
   "id": "1552037b",
   "metadata": {},
   "outputs": [
    {
     "data": {
      "application/vnd.microsoft.datawrangler.viewer.v0+json": {
       "columns": [
        {
         "name": "index",
         "rawType": "int64",
         "type": "integer"
        },
        {
         "name": "journal",
         "rawType": "object",
         "type": "string"
        },
        {
         "name": "title",
         "rawType": "object",
         "type": "string"
        },
        {
         "name": "issn",
         "rawType": "object",
         "type": "string"
        },
        {
         "name": "eissn",
         "rawType": "object",
         "type": "string"
        },
        {
         "name": "languages",
         "rawType": "object",
         "type": "string"
        },
        {
         "name": "publisher",
         "rawType": "object",
         "type": "string"
        },
        {
         "name": "license",
         "rawType": "object",
         "type": "string"
        },
        {
         "name": "apc",
         "rawType": "object",
         "type": "string"
        },
        {
         "name": "seal",
         "rawType": "object",
         "type": "string"
        }
       ],
       "conversionMethod": "pd.DataFrame",
       "ref": "4c1abf46-89c8-4d30-a11d-d6ca0315e626",
       "rows": [
        [
         "0",
         "https://comp-data.github.io/resjournal-176",
         "Revista Ciencias Marinas y Costeras",
         "1659-455X",
         "1659-455X",
         "Spanish",
         "Universidad Nacional, Costa Rica",
         "CC BY-NC-SA",
         "No",
         "No"
        ],
        [
         "1",
         "https://comp-data.github.io/resjournal-176",
         "Revista Ciencias Marinas y Costeras",
         "1659-455X",
         "1659-455X",
         "English",
         "Universidad Nacional, Costa Rica",
         "CC BY-NC-SA",
         "No",
         "No"
        ],
        [
         "2",
         "https://comp-data.github.io/resjournal-176",
         "Revista Ciencias Marinas y Costeras",
         "1659-407X",
         "1659-455X",
         "Spanish",
         "Universidad Nacional, Costa Rica",
         "CC BY-NC-SA",
         "No",
         "No"
        ],
        [
         "3",
         "https://comp-data.github.io/resjournal-176",
         "Revista Ciencias Marinas y Costeras",
         "1659-407X",
         "1659-455X",
         "English",
         "Universidad Nacional, Costa Rica",
         "CC BY-NC-SA",
         "No",
         "No"
        ],
        [
         "4",
         "https://comp-data.github.io/resjournal-176",
         "Revista Ciencias Marinas y Costeras",
         "1659-455X",
         "1659-407X",
         "Spanish",
         "Universidad Nacional, Costa Rica",
         "CC BY-NC-SA",
         "No",
         "No"
        ],
        [
         "5",
         "https://comp-data.github.io/resjournal-176",
         "Revista Ciencias Marinas y Costeras",
         "1659-455X",
         "1659-407X",
         "English",
         "Universidad Nacional, Costa Rica",
         "CC BY-NC-SA",
         "No",
         "No"
        ],
        [
         "6",
         "https://comp-data.github.io/resjournal-176",
         "Revista Ciencias Marinas y Costeras",
         "1659-407X",
         "1659-407X",
         "Spanish",
         "Universidad Nacional, Costa Rica",
         "CC BY-NC-SA",
         "No",
         "No"
        ],
        [
         "7",
         "https://comp-data.github.io/resjournal-176",
         "Revista Ciencias Marinas y Costeras",
         "1659-407X",
         "1659-407X",
         "English",
         "Universidad Nacional, Costa Rica",
         "CC BY-NC-SA",
         "No",
         "No"
        ],
        [
         "8",
         "https://comp-data.github.io/resjournal-51",
         "Jurnal Smart",
         "2356-203X",
         "2356-203X",
         "English",
         "Universitas Muhammadiyah Pringsewu",
         "CC BY-SA",
         "Yes",
         "No"
        ],
        [
         "9",
         "https://comp-data.github.io/resjournal-51",
         "Jurnal Smart",
         "2356-2048",
         "2356-203X",
         "English",
         "Universitas Muhammadiyah Pringsewu",
         "CC BY-SA",
         "Yes",
         "No"
        ],
        [
         "10",
         "https://comp-data.github.io/resjournal-51",
         "Jurnal Smart",
         "2356-203X",
         "2356-2048",
         "English",
         "Universitas Muhammadiyah Pringsewu",
         "CC BY-SA",
         "Yes",
         "No"
        ],
        [
         "11",
         "https://comp-data.github.io/resjournal-51",
         "Jurnal Smart",
         "2356-2048",
         "2356-2048",
         "English",
         "Universitas Muhammadiyah Pringsewu",
         "CC BY-SA",
         "Yes",
         "No"
        ],
        [
         "12",
         "https://comp-data.github.io/resjournal-169",
         "Investigaciones Regionales - Journal of Regional Research",
         "1695-7253",
         "1695-7253",
         "Spanish",
         "AECR",
         "Publisher's own license",
         "No",
         "No"
        ],
        [
         "13",
         "https://comp-data.github.io/resjournal-169",
         "Investigaciones Regionales - Journal of Regional Research",
         "1695-7253",
         "1695-7253",
         "English",
         "AECR",
         "Publisher's own license",
         "No",
         "No"
        ],
        [
         "14",
         "https://comp-data.github.io/resjournal-169",
         "Investigaciones Regionales - Journal of Regional Research",
         "2340-2717",
         "1695-7253",
         "Spanish",
         "AECR",
         "Publisher's own license",
         "No",
         "No"
        ],
        [
         "15",
         "https://comp-data.github.io/resjournal-169",
         "Investigaciones Regionales - Journal of Regional Research",
         "2340-2717",
         "1695-7253",
         "English",
         "AECR",
         "Publisher's own license",
         "No",
         "No"
        ],
        [
         "16",
         "https://comp-data.github.io/resjournal-169",
         "Investigaciones Regionales - Journal of Regional Research",
         "1695-7253",
         "2340-2717",
         "Spanish",
         "AECR",
         "Publisher's own license",
         "No",
         "No"
        ],
        [
         "17",
         "https://comp-data.github.io/resjournal-169",
         "Investigaciones Regionales - Journal of Regional Research",
         "1695-7253",
         "2340-2717",
         "English",
         "AECR",
         "Publisher's own license",
         "No",
         "No"
        ],
        [
         "18",
         "https://comp-data.github.io/resjournal-169",
         "Investigaciones Regionales - Journal of Regional Research",
         "2340-2717",
         "2340-2717",
         "Spanish",
         "AECR",
         "Publisher's own license",
         "No",
         "No"
        ],
        [
         "19",
         "https://comp-data.github.io/resjournal-169",
         "Investigaciones Regionales - Journal of Regional Research",
         "2340-2717",
         "2340-2717",
         "English",
         "AECR",
         "Publisher's own license",
         "No",
         "No"
        ],
        [
         "20",
         "https://comp-data.github.io/resjournal-103",
         "Известия Саратовского университета. Новая серия: Серия Химия. Биология. Экология",
         "1816-9775",
         "1816-9775",
         "Russian",
         "Saratov State University",
         "CC BY",
         "No",
         "Yes"
        ],
        [
         "21",
         "https://comp-data.github.io/resjournal-103",
         "Известия Саратовского университета. Новая серия: Серия Химия. Биология. Экология",
         "1816-9775",
         "1816-9775",
         "English",
         "Saratov State University",
         "CC BY",
         "No",
         "Yes"
        ],
        [
         "22",
         "https://comp-data.github.io/resjournal-103",
         "Известия Саратовского университета. Новая серия: Серия Химия. Биология. Экология",
         "2541-8971",
         "1816-9775",
         "Russian",
         "Saratov State University",
         "CC BY",
         "No",
         "Yes"
        ],
        [
         "23",
         "https://comp-data.github.io/resjournal-103",
         "Известия Саратовского университета. Новая серия: Серия Химия. Биология. Экология",
         "2541-8971",
         "1816-9775",
         "English",
         "Saratov State University",
         "CC BY",
         "No",
         "Yes"
        ],
        [
         "24",
         "https://comp-data.github.io/resjournal-103",
         "Известия Саратовского университета. Новая серия: Серия Химия. Биология. Экология",
         "1816-9775",
         "2541-8971",
         "Russian",
         "Saratov State University",
         "CC BY",
         "No",
         "Yes"
        ],
        [
         "25",
         "https://comp-data.github.io/resjournal-103",
         "Известия Саратовского университета. Новая серия: Серия Химия. Биология. Экология",
         "1816-9775",
         "2541-8971",
         "English",
         "Saratov State University",
         "CC BY",
         "No",
         "Yes"
        ],
        [
         "26",
         "https://comp-data.github.io/resjournal-103",
         "Известия Саратовского университета. Новая серия: Серия Химия. Биология. Экология",
         "2541-8971",
         "2541-8971",
         "Russian",
         "Saratov State University",
         "CC BY",
         "No",
         "Yes"
        ],
        [
         "27",
         "https://comp-data.github.io/resjournal-103",
         "Известия Саратовского университета. Новая серия: Серия Химия. Биология. Экология",
         "2541-8971",
         "2541-8971",
         "English",
         "Saratov State University",
         "CC BY",
         "No",
         "Yes"
        ],
        [
         "28",
         "https://comp-data.github.io/resjournal-57",
         "Zeithistorische Forschungen",
         "1612-6033",
         "1612-6033",
         "English",
         "Vandenhoeck & Ruprecht GmbH & Co. KG",
         "CC BY-SA",
         "No",
         "No"
        ],
        [
         "29",
         "https://comp-data.github.io/resjournal-57",
         "Zeithistorische Forschungen",
         "1612-6033",
         "1612-6033",
         "German",
         "Vandenhoeck & Ruprecht GmbH & Co. KG",
         "CC BY-SA",
         "No",
         "No"
        ],
        [
         "30",
         "https://comp-data.github.io/resjournal-57",
         "Zeithistorische Forschungen",
         "1612-6041",
         "1612-6033",
         "English",
         "Vandenhoeck & Ruprecht GmbH & Co. KG",
         "CC BY-SA",
         "No",
         "No"
        ],
        [
         "31",
         "https://comp-data.github.io/resjournal-57",
         "Zeithistorische Forschungen",
         "1612-6041",
         "1612-6033",
         "German",
         "Vandenhoeck & Ruprecht GmbH & Co. KG",
         "CC BY-SA",
         "No",
         "No"
        ],
        [
         "32",
         "https://comp-data.github.io/resjournal-57",
         "Zeithistorische Forschungen",
         "1612-6033",
         "1612-6041",
         "English",
         "Vandenhoeck & Ruprecht GmbH & Co. KG",
         "CC BY-SA",
         "No",
         "No"
        ],
        [
         "33",
         "https://comp-data.github.io/resjournal-57",
         "Zeithistorische Forschungen",
         "1612-6033",
         "1612-6041",
         "German",
         "Vandenhoeck & Ruprecht GmbH & Co. KG",
         "CC BY-SA",
         "No",
         "No"
        ],
        [
         "34",
         "https://comp-data.github.io/resjournal-57",
         "Zeithistorische Forschungen",
         "1612-6041",
         "1612-6041",
         "English",
         "Vandenhoeck & Ruprecht GmbH & Co. KG",
         "CC BY-SA",
         "No",
         "No"
        ],
        [
         "35",
         "https://comp-data.github.io/resjournal-57",
         "Zeithistorische Forschungen",
         "1612-6041",
         "1612-6041",
         "German",
         "Vandenhoeck & Ruprecht GmbH & Co. KG",
         "CC BY-SA",
         "No",
         "No"
        ],
        [
         "36",
         "https://comp-data.github.io/resjournal-124",
         "Uqyānūs/shināsī",
         "1562-1057",
         "1562-1057",
         "Persian",
         "Regional Information Center for Science and Technology (RICeST)",
         "CC BY",
         "Yes",
         "No"
        ],
        [
         "37",
         "https://comp-data.github.io/resjournal-124",
         "Uqyānūs/shināsī",
         "2476-6755",
         "1562-1057",
         "Persian",
         "Regional Information Center for Science and Technology (RICeST)",
         "CC BY",
         "Yes",
         "No"
        ],
        [
         "38",
         "https://comp-data.github.io/resjournal-124",
         "Uqyānūs/shināsī",
         "1562-1057",
         "2476-6755",
         "Persian",
         "Regional Information Center for Science and Technology (RICeST)",
         "CC BY",
         "Yes",
         "No"
        ],
        [
         "39",
         "https://comp-data.github.io/resjournal-124",
         "Uqyānūs/shināsī",
         "2476-6755",
         "2476-6755",
         "Persian",
         "Regional Information Center for Science and Technology (RICeST)",
         "CC BY",
         "Yes",
         "No"
        ],
        [
         "40",
         "https://comp-data.github.io/resjournal-133",
         "Anthropologica",
         "2224-6428",
         "2224-6428",
         "Spanish",
         "Pontificia Universidad Católica del Perú",
         "CC BY-NC",
         "No",
         "No"
        ],
        [
         "41",
         "https://comp-data.github.io/resjournal-133",
         "Anthropologica",
         "0254-9212",
         "2224-6428",
         "Spanish",
         "Pontificia Universidad Católica del Perú",
         "CC BY-NC",
         "No",
         "No"
        ],
        [
         "42",
         "https://comp-data.github.io/resjournal-133",
         "Anthropologica",
         "2224-6428",
         "0254-9212",
         "Spanish",
         "Pontificia Universidad Católica del Perú",
         "CC BY-NC",
         "No",
         "No"
        ],
        [
         "43",
         "https://comp-data.github.io/resjournal-133",
         "Anthropologica",
         "0254-9212",
         "0254-9212",
         "Spanish",
         "Pontificia Universidad Católica del Perú",
         "CC BY-NC",
         "No",
         "No"
        ],
        [
         "44",
         "https://comp-data.github.io/resjournal-167",
         "Журнал Белорусского государственного университета: География, геология",
         "2521-6740",
         "2521-6740",
         "Russian",
         "Belarusian State University",
         "CC BY-NC",
         "No",
         "No"
        ],
        [
         "45",
         "https://comp-data.github.io/resjournal-167",
         "Журнал Белорусского государственного университета: География, геология",
         "2521-6740",
         "2521-6740",
         "English",
         "Belarusian State University",
         "CC BY-NC",
         "No",
         "No"
        ],
        [
         "46",
         "https://comp-data.github.io/resjournal-167",
         "Журнал Белорусского государственного университета: География, геология",
         "2521-6740",
         "2521-6740",
         "Belarusian",
         "Belarusian State University",
         "CC BY-NC",
         "No",
         "No"
        ],
        [
         "47",
         "https://comp-data.github.io/resjournal-167",
         "Журнал Белорусского государственного университета: География, геология",
         "2617-3972",
         "2521-6740",
         "Russian",
         "Belarusian State University",
         "CC BY-NC",
         "No",
         "No"
        ],
        [
         "48",
         "https://comp-data.github.io/resjournal-167",
         "Журнал Белорусского государственного университета: География, геология",
         "2617-3972",
         "2521-6740",
         "English",
         "Belarusian State University",
         "CC BY-NC",
         "No",
         "No"
        ],
        [
         "49",
         "https://comp-data.github.io/resjournal-167",
         "Журнал Белорусского государственного университета: География, геология",
         "2617-3972",
         "2521-6740",
         "Belarusian",
         "Belarusian State University",
         "CC BY-NC",
         "No",
         "No"
        ]
       ],
       "shape": {
        "columns": 9,
        "rows": 947
       }
      },
      "text/html": [
       "<div>\n",
       "<style scoped>\n",
       "    .dataframe tbody tr th:only-of-type {\n",
       "        vertical-align: middle;\n",
       "    }\n",
       "\n",
       "    .dataframe tbody tr th {\n",
       "        vertical-align: top;\n",
       "    }\n",
       "\n",
       "    .dataframe thead th {\n",
       "        text-align: right;\n",
       "    }\n",
       "</style>\n",
       "<table border=\"1\" class=\"dataframe\">\n",
       "  <thead>\n",
       "    <tr style=\"text-align: right;\">\n",
       "      <th></th>\n",
       "      <th>journal</th>\n",
       "      <th>title</th>\n",
       "      <th>issn</th>\n",
       "      <th>eissn</th>\n",
       "      <th>languages</th>\n",
       "      <th>publisher</th>\n",
       "      <th>license</th>\n",
       "      <th>apc</th>\n",
       "      <th>seal</th>\n",
       "    </tr>\n",
       "  </thead>\n",
       "  <tbody>\n",
       "    <tr>\n",
       "      <th>0</th>\n",
       "      <td>https://comp-data.github.io/resjournal-176</td>\n",
       "      <td>Revista Ciencias Marinas y Costeras</td>\n",
       "      <td>1659-455X</td>\n",
       "      <td>1659-455X</td>\n",
       "      <td>Spanish</td>\n",
       "      <td>Universidad Nacional, Costa Rica</td>\n",
       "      <td>CC BY-NC-SA</td>\n",
       "      <td>No</td>\n",
       "      <td>No</td>\n",
       "    </tr>\n",
       "    <tr>\n",
       "      <th>1</th>\n",
       "      <td>https://comp-data.github.io/resjournal-176</td>\n",
       "      <td>Revista Ciencias Marinas y Costeras</td>\n",
       "      <td>1659-455X</td>\n",
       "      <td>1659-455X</td>\n",
       "      <td>English</td>\n",
       "      <td>Universidad Nacional, Costa Rica</td>\n",
       "      <td>CC BY-NC-SA</td>\n",
       "      <td>No</td>\n",
       "      <td>No</td>\n",
       "    </tr>\n",
       "    <tr>\n",
       "      <th>2</th>\n",
       "      <td>https://comp-data.github.io/resjournal-176</td>\n",
       "      <td>Revista Ciencias Marinas y Costeras</td>\n",
       "      <td>1659-407X</td>\n",
       "      <td>1659-455X</td>\n",
       "      <td>Spanish</td>\n",
       "      <td>Universidad Nacional, Costa Rica</td>\n",
       "      <td>CC BY-NC-SA</td>\n",
       "      <td>No</td>\n",
       "      <td>No</td>\n",
       "    </tr>\n",
       "    <tr>\n",
       "      <th>3</th>\n",
       "      <td>https://comp-data.github.io/resjournal-176</td>\n",
       "      <td>Revista Ciencias Marinas y Costeras</td>\n",
       "      <td>1659-407X</td>\n",
       "      <td>1659-455X</td>\n",
       "      <td>English</td>\n",
       "      <td>Universidad Nacional, Costa Rica</td>\n",
       "      <td>CC BY-NC-SA</td>\n",
       "      <td>No</td>\n",
       "      <td>No</td>\n",
       "    </tr>\n",
       "    <tr>\n",
       "      <th>4</th>\n",
       "      <td>https://comp-data.github.io/resjournal-176</td>\n",
       "      <td>Revista Ciencias Marinas y Costeras</td>\n",
       "      <td>1659-455X</td>\n",
       "      <td>1659-407X</td>\n",
       "      <td>Spanish</td>\n",
       "      <td>Universidad Nacional, Costa Rica</td>\n",
       "      <td>CC BY-NC-SA</td>\n",
       "      <td>No</td>\n",
       "      <td>No</td>\n",
       "    </tr>\n",
       "    <tr>\n",
       "      <th>...</th>\n",
       "      <td>...</td>\n",
       "      <td>...</td>\n",
       "      <td>...</td>\n",
       "      <td>...</td>\n",
       "      <td>...</td>\n",
       "      <td>...</td>\n",
       "      <td>...</td>\n",
       "      <td>...</td>\n",
       "      <td>...</td>\n",
       "    </tr>\n",
       "    <tr>\n",
       "      <th>942</th>\n",
       "      <td>https://comp-data.github.io/resjournal-45</td>\n",
       "      <td>Rivista Italiana di Acustica</td>\n",
       "      <td>2385-2615</td>\n",
       "      <td>2385-2615</td>\n",
       "      <td>Italian</td>\n",
       "      <td>Associazione Italiana di Acustica</td>\n",
       "      <td>CC BY</td>\n",
       "      <td>No</td>\n",
       "      <td>No</td>\n",
       "    </tr>\n",
       "    <tr>\n",
       "      <th>943</th>\n",
       "      <td>https://comp-data.github.io/resjournal-145</td>\n",
       "      <td>Jurnal Keuangan dan Perbankan</td>\n",
       "      <td>1410-8089</td>\n",
       "      <td>1410-8089</td>\n",
       "      <td>English</td>\n",
       "      <td>Universitas Merdeka Malang</td>\n",
       "      <td>CC BY-SA</td>\n",
       "      <td>No</td>\n",
       "      <td>No</td>\n",
       "    </tr>\n",
       "    <tr>\n",
       "      <th>944</th>\n",
       "      <td>https://comp-data.github.io/resjournal-145</td>\n",
       "      <td>Jurnal Keuangan dan Perbankan</td>\n",
       "      <td>2443-2687</td>\n",
       "      <td>1410-8089</td>\n",
       "      <td>English</td>\n",
       "      <td>Universitas Merdeka Malang</td>\n",
       "      <td>CC BY-SA</td>\n",
       "      <td>No</td>\n",
       "      <td>No</td>\n",
       "    </tr>\n",
       "    <tr>\n",
       "      <th>945</th>\n",
       "      <td>https://comp-data.github.io/resjournal-145</td>\n",
       "      <td>Jurnal Keuangan dan Perbankan</td>\n",
       "      <td>1410-8089</td>\n",
       "      <td>2443-2687</td>\n",
       "      <td>English</td>\n",
       "      <td>Universitas Merdeka Malang</td>\n",
       "      <td>CC BY-SA</td>\n",
       "      <td>No</td>\n",
       "      <td>No</td>\n",
       "    </tr>\n",
       "    <tr>\n",
       "      <th>946</th>\n",
       "      <td>https://comp-data.github.io/resjournal-145</td>\n",
       "      <td>Jurnal Keuangan dan Perbankan</td>\n",
       "      <td>2443-2687</td>\n",
       "      <td>2443-2687</td>\n",
       "      <td>English</td>\n",
       "      <td>Universitas Merdeka Malang</td>\n",
       "      <td>CC BY-SA</td>\n",
       "      <td>No</td>\n",
       "      <td>No</td>\n",
       "    </tr>\n",
       "  </tbody>\n",
       "</table>\n",
       "<p>947 rows × 9 columns</p>\n",
       "</div>"
      ],
      "text/plain": [
       "                                        journal  \\\n",
       "0    https://comp-data.github.io/resjournal-176   \n",
       "1    https://comp-data.github.io/resjournal-176   \n",
       "2    https://comp-data.github.io/resjournal-176   \n",
       "3    https://comp-data.github.io/resjournal-176   \n",
       "4    https://comp-data.github.io/resjournal-176   \n",
       "..                                          ...   \n",
       "942   https://comp-data.github.io/resjournal-45   \n",
       "943  https://comp-data.github.io/resjournal-145   \n",
       "944  https://comp-data.github.io/resjournal-145   \n",
       "945  https://comp-data.github.io/resjournal-145   \n",
       "946  https://comp-data.github.io/resjournal-145   \n",
       "\n",
       "                                   title       issn      eissn languages  \\\n",
       "0    Revista Ciencias Marinas y Costeras  1659-455X  1659-455X   Spanish   \n",
       "1    Revista Ciencias Marinas y Costeras  1659-455X  1659-455X   English   \n",
       "2    Revista Ciencias Marinas y Costeras  1659-407X  1659-455X   Spanish   \n",
       "3    Revista Ciencias Marinas y Costeras  1659-407X  1659-455X   English   \n",
       "4    Revista Ciencias Marinas y Costeras  1659-455X  1659-407X   Spanish   \n",
       "..                                   ...        ...        ...       ...   \n",
       "942         Rivista Italiana di Acustica  2385-2615  2385-2615   Italian   \n",
       "943        Jurnal Keuangan dan Perbankan  1410-8089  1410-8089   English   \n",
       "944        Jurnal Keuangan dan Perbankan  2443-2687  1410-8089   English   \n",
       "945        Jurnal Keuangan dan Perbankan  1410-8089  2443-2687   English   \n",
       "946        Jurnal Keuangan dan Perbankan  2443-2687  2443-2687   English   \n",
       "\n",
       "                             publisher      license apc seal  \n",
       "0     Universidad Nacional, Costa Rica  CC BY-NC-SA  No   No  \n",
       "1     Universidad Nacional, Costa Rica  CC BY-NC-SA  No   No  \n",
       "2     Universidad Nacional, Costa Rica  CC BY-NC-SA  No   No  \n",
       "3     Universidad Nacional, Costa Rica  CC BY-NC-SA  No   No  \n",
       "4     Universidad Nacional, Costa Rica  CC BY-NC-SA  No   No  \n",
       "..                                 ...          ...  ..  ...  \n",
       "942  Associazione Italiana di Acustica        CC BY  No   No  \n",
       "943         Universitas Merdeka Malang     CC BY-SA  No   No  \n",
       "944         Universitas Merdeka Malang     CC BY-SA  No   No  \n",
       "945         Universitas Merdeka Malang     CC BY-SA  No   No  \n",
       "946         Universitas Merdeka Malang     CC BY-SA  No   No  \n",
       "\n",
       "[947 rows x 9 columns]"
      ]
     },
     "execution_count": 2,
     "metadata": {},
     "output_type": "execute_result"
    }
   ],
   "source": [
    "# result_q1 = jou_qh.getJournalsWithTitle('مجلة كلي')\n",
    "result_q1 = jou_qh.getAllJournals()\n",
    "# result_q1 = jou_qh.getJournalsWithDOAJSeal()\n",
    "# result_q1 = jou_qh.getById('2532-2615') # 2532-2615 2385-2615\n",
    "\n",
    "result_q1"
   ]
  },
  {
   "cell_type": "markdown",
   "id": "d0237364",
   "metadata": {},
   "source": [
    "#### Check CategoryQueryHandler"
   ]
  },
  {
   "cell_type": "code",
   "execution_count": 2,
   "id": "b71cf310",
   "metadata": {},
   "outputs": [
    {
     "data": {
      "application/vnd.microsoft.datawrangler.viewer.v0+json": {
       "columns": [
        {
         "name": "index",
         "rawType": "int64",
         "type": "integer"
        },
        {
         "name": "identifiers",
         "rawType": "object",
         "type": "string"
        },
        {
         "name": "category_id",
         "rawType": "object",
         "type": "string"
        }
       ],
       "conversionMethod": "pd.DataFrame",
       "ref": "6832be8c-42ba-4be5-8e0e-fbed44336c00",
       "rows": [
        [
         "0",
         "1542-4863",
         "Hematology"
        ],
        [
         "1",
         "1542-4863",
         "Oncology"
        ],
        [
         "2",
         "0007-9235",
         "Hematology"
        ],
        [
         "3",
         "0007-9235",
         "Oncology"
        ],
        [
         "4",
         "1935-8245",
         "Artificial Intelligence"
        ],
        [
         "5",
         "1935-8245",
         "Human-Computer Interaction"
        ],
        [
         "6",
         "1935-8245",
         "Software"
        ],
        [
         "7",
         "1935-8237",
         "Artificial Intelligence"
        ],
        [
         "8",
         "1935-8237",
         "Human-Computer Interaction"
        ],
        [
         "9",
         "1935-8237",
         "Software"
        ],
        [
         "10",
         "1471-0072",
         "Cell Biology"
        ],
        [
         "11",
         "1471-0072",
         "Molecular Biology"
        ],
        [
         "12",
         "1471-0080",
         "Cell Biology"
        ],
        [
         "13",
         "1471-0080",
         "Molecular Biology"
        ],
        [
         "14",
         "0033-5533",
         "Economics and Econometrics"
        ],
        [
         "15",
         "1531-4650",
         "Economics and Econometrics"
        ],
        [
         "16",
         "1474-175X",
         "Cancer Research"
        ],
        [
         "17",
         "1474-175X",
         "Oncology"
        ],
        [
         "18",
         "1474-1768",
         "Cancer Research"
        ],
        [
         "19",
         "1474-1768",
         "Oncology"
        ],
        [
         "20",
         "0092-8674",
         "Biochemistry, Genetics and Molecular Biology (miscellaneous)"
        ],
        [
         "21",
         "1097-4172",
         "Biochemistry, Genetics and Molecular Biology (miscellaneous)"
        ],
        [
         "22",
         "1474-1784",
         "Drug Discovery"
        ],
        [
         "23",
         "1474-1784",
         "Medicine (miscellaneous)"
        ],
        [
         "24",
         "1474-1784",
         "Pharmacology"
        ],
        [
         "25",
         "1474-1776",
         "Drug Discovery"
        ],
        [
         "26",
         "1474-1776",
         "Medicine (miscellaneous)"
        ],
        [
         "27",
         "1474-1776",
         "Pharmacology"
        ],
        [
         "28",
         "1944-7981",
         "Economics and Econometrics"
        ],
        [
         "29",
         "0002-8282",
         "Economics and Econometrics"
        ],
        [
         "30",
         "2058-8437",
         "Biomaterials"
        ],
        [
         "31",
         "2058-8437",
         "Electronic, Optical and Magnetic Materials"
        ],
        [
         "32",
         "2058-8437",
         "Energy (miscellaneous)"
        ],
        [
         "33",
         "2058-8437",
         "Materials Chemistry"
        ],
        [
         "34",
         "2058-8437",
         "Surfaces, Coatings and Films"
        ],
        [
         "35",
         "1759-4782",
         "Oncology"
        ],
        [
         "36",
         "1759-4774",
         "Oncology"
        ],
        [
         "37",
         "0028-4793",
         "Medicine (miscellaneous)"
        ],
        [
         "38",
         "1533-4406",
         "Medicine (miscellaneous)"
        ],
        [
         "39",
         "0022-1082",
         "Accounting"
        ],
        [
         "40",
         "0022-1082",
         "Economics and Econometrics"
        ],
        [
         "41",
         "0022-1082",
         "Finance"
        ],
        [
         "42",
         "1540-6261",
         "Accounting"
        ],
        [
         "43",
         "1540-6261",
         "Economics and Econometrics"
        ],
        [
         "44",
         "1540-6261",
         "Finance"
        ],
        [
         "45",
         "1546-170X",
         "Biochemistry, Genetics and Molecular Biology (miscellaneous)"
        ],
        [
         "46",
         "1546-170X",
         "Medicine (miscellaneous)"
        ],
        [
         "47",
         "1078-8956",
         "Biochemistry, Genetics and Molecular Biology (miscellaneous)"
        ],
        [
         "48",
         "1078-8956",
         "Medicine (miscellaneous)"
        ],
        [
         "49",
         "1934-3396",
         "Biochemistry"
        ]
       ],
       "shape": {
        "columns": 2,
        "rows": 111589
       }
      },
      "text/html": [
       "<div>\n",
       "<style scoped>\n",
       "    .dataframe tbody tr th:only-of-type {\n",
       "        vertical-align: middle;\n",
       "    }\n",
       "\n",
       "    .dataframe tbody tr th {\n",
       "        vertical-align: top;\n",
       "    }\n",
       "\n",
       "    .dataframe thead th {\n",
       "        text-align: right;\n",
       "    }\n",
       "</style>\n",
       "<table border=\"1\" class=\"dataframe\">\n",
       "  <thead>\n",
       "    <tr style=\"text-align: right;\">\n",
       "      <th></th>\n",
       "      <th>identifiers</th>\n",
       "      <th>category_id</th>\n",
       "    </tr>\n",
       "  </thead>\n",
       "  <tbody>\n",
       "    <tr>\n",
       "      <th>0</th>\n",
       "      <td>1542-4863</td>\n",
       "      <td>Hematology</td>\n",
       "    </tr>\n",
       "    <tr>\n",
       "      <th>1</th>\n",
       "      <td>1542-4863</td>\n",
       "      <td>Oncology</td>\n",
       "    </tr>\n",
       "    <tr>\n",
       "      <th>2</th>\n",
       "      <td>0007-9235</td>\n",
       "      <td>Hematology</td>\n",
       "    </tr>\n",
       "    <tr>\n",
       "      <th>3</th>\n",
       "      <td>0007-9235</td>\n",
       "      <td>Oncology</td>\n",
       "    </tr>\n",
       "    <tr>\n",
       "      <th>4</th>\n",
       "      <td>1935-8245</td>\n",
       "      <td>Artificial Intelligence</td>\n",
       "    </tr>\n",
       "    <tr>\n",
       "      <th>...</th>\n",
       "      <td>...</td>\n",
       "      <td>...</td>\n",
       "    </tr>\n",
       "    <tr>\n",
       "      <th>111584</th>\n",
       "      <td>2307-8960</td>\n",
       "      <td>Medicine (miscellaneous)</td>\n",
       "    </tr>\n",
       "    <tr>\n",
       "      <th>111585</th>\n",
       "      <td>1934-1520</td>\n",
       "      <td>Gender Studies</td>\n",
       "    </tr>\n",
       "    <tr>\n",
       "      <th>111586</th>\n",
       "      <td>0732-1562</td>\n",
       "      <td>Gender Studies</td>\n",
       "    </tr>\n",
       "    <tr>\n",
       "      <th>111587</th>\n",
       "      <td>0215-840X</td>\n",
       "      <td>Law</td>\n",
       "    </tr>\n",
       "    <tr>\n",
       "      <th>111588</th>\n",
       "      <td>2528-3103</td>\n",
       "      <td>Law</td>\n",
       "    </tr>\n",
       "  </tbody>\n",
       "</table>\n",
       "<p>111589 rows × 2 columns</p>\n",
       "</div>"
      ],
      "text/plain": [
       "       identifiers               category_id\n",
       "0        1542-4863                Hematology\n",
       "1        1542-4863                  Oncology\n",
       "2        0007-9235                Hematology\n",
       "3        0007-9235                  Oncology\n",
       "4        1935-8245   Artificial Intelligence\n",
       "...            ...                       ...\n",
       "111584   2307-8960  Medicine (miscellaneous)\n",
       "111585   1934-1520            Gender Studies\n",
       "111586   0732-1562            Gender Studies\n",
       "111587   0215-840X                       Law\n",
       "111588   2528-3103                       Law\n",
       "\n",
       "[111589 rows x 2 columns]"
      ]
     },
     "execution_count": 2,
     "metadata": {},
     "output_type": "execute_result"
    }
   ],
   "source": [
    "result_q1 = cat_qh.getAllCat_id_quartile()\n",
    "\n",
    "# a = \"Q1\"\n",
    "result_q1\n",
    "# print(', '.join(['?'] * len(a)))"
   ]
  },
  {
   "cell_type": "markdown",
   "id": "37f63699",
   "metadata": {},
   "source": [
    "### Check QueryEngine"
   ]
  },
  {
   "cell_type": "code",
   "execution_count": 2,
   "id": "8ae71793",
   "metadata": {},
   "outputs": [
    {
     "name": "stdout",
     "output_type": "stream",
     "text": [
      "<impl_with_modification.JournalQueryHandler object at 0x0000023AB8845590>\n",
      "index number:  0\n",
      "if...\n",
      "if...\n",
      "category list: []\n",
      "index number:  1\n",
      "if...\n",
      "if...\n",
      "category list: []\n",
      "index number:  2\n",
      "if...\n",
      "if...\n",
      "category list: [('Analytical Chemistry', 'Q3')]\n",
      "index number:  3\n",
      "if...\n",
      "if...\n",
      "category list: []\n",
      "index number:  4\n",
      "if...\n",
      "if...\n",
      "category list: []\n",
      "index number:  5\n",
      "if...\n",
      "if...\n",
      "category list: []\n",
      "index number:  6\n",
      "if...\n",
      "if...\n",
      "category list: [('Organic Chemistry', 'Q3')]\n",
      "index number:  7\n",
      "if...\n",
      "if...\n",
      "category list: []\n",
      "index number:  8\n",
      "if...\n",
      "if...\n",
      "category list: []\n",
      "index number:  9\n",
      "if...\n",
      "if...\n",
      "category list: []\n",
      "index number:  10\n",
      "if...\n",
      "if...\n",
      "category list: []\n",
      "index number:  11\n",
      "if...\n",
      "if...\n",
      "category list: [('Linguistics and Language', 'Q2'), ('Education', 'Q4')]\n",
      "index number:  12\n",
      "if...\n",
      "if...\n",
      "category list: []\n",
      "index number:  13\n",
      "if...\n",
      "if...\n",
      "category list: []\n",
      "index number:  14\n",
      "if...\n",
      "if...\n",
      "category list: []\n",
      "index number:  15\n",
      "if...\n",
      "if...\n",
      "category list: []\n",
      "index number:  16\n",
      "if...\n",
      "if...\n",
      "category list: []\n",
      "index number:  17\n",
      "if...\n",
      "if...\n",
      "category list: []\n",
      "index number:  18\n",
      "if...\n",
      "if...\n",
      "category list: [('Tourism, Leisure and Hospitality Management', 'Q4')]\n",
      "index number:  19\n",
      "if...\n",
      "if...\n",
      "category list: []\n",
      "index number:  20\n",
      "if...\n",
      "if...\n",
      "category list: []\n",
      "index number:  21\n",
      "if...\n",
      "if...\n",
      "category list: []\n",
      "index number:  22\n",
      "if...\n",
      "if...\n",
      "category list: []\n",
      "index number:  23\n",
      "if...\n",
      "if...\n",
      "category list: []\n",
      "index number:  24\n",
      "if...\n",
      "if...\n",
      "category list: []\n",
      "index number:  25\n",
      "if...\n"
     ]
    },
    {
     "ename": "KeyboardInterrupt",
     "evalue": "",
     "output_type": "error",
     "traceback": [
      "\u001b[1;31m---------------------------------------------------------------------------\u001b[0m",
      "\u001b[1;31mKeyboardInterrupt\u001b[0m                         Traceback (most recent call last)",
      "Cell \u001b[1;32mIn[2], line 2\u001b[0m\n\u001b[0;32m      1\u001b[0m \u001b[38;5;66;03m# result_q1 = que.getJournalsWithTitle('مجلة كلي')\u001b[39;00m\n\u001b[1;32m----> 2\u001b[0m result_q1 \u001b[38;5;241m=\u001b[39m \u001b[43mque\u001b[49m\u001b[38;5;241;43m.\u001b[39;49m\u001b[43mgetAllJournals\u001b[49m\u001b[43m(\u001b[49m\u001b[43m)\u001b[49m\n\u001b[0;32m      3\u001b[0m \u001b[38;5;66;03m# reslt_q1 = que.getJournalsWithDOAJSeal()\u001b[39;00m\n\u001b[0;32m      4\u001b[0m \u001b[38;5;66;03m# result_q1 = que.getCategory('1542-4863')\u001b[39;00m\n\u001b[0;32m      5\u001b[0m result_q1\n",
      "File \u001b[1;32mc:\\Users\\edoar\\Documents\\GitHub\\Data-science-group-project\\our_project\\impl_with_modification.py:691\u001b[0m, in \u001b[0;36mBasicQueryEngine.getAllJournals\u001b[1;34m(self)\u001b[0m\n\u001b[0;32m    678\u001b[0m     \u001b[38;5;28mprint\u001b[39m(\u001b[38;5;124m'\u001b[39m\u001b[38;5;124mindex number: \u001b[39m\u001b[38;5;124m'\u001b[39m, index)\n\u001b[0;32m    679\u001b[0m     journal \u001b[38;5;241m=\u001b[39m Journal(\n\u001b[0;32m    680\u001b[0m         \u001b[38;5;28mid\u001b[39m\u001b[38;5;241m=\u001b[39m[row[\u001b[38;5;124m'\u001b[39m\u001b[38;5;124mjournal\u001b[39m\u001b[38;5;124m'\u001b[39m]],  \n\u001b[0;32m    681\u001b[0m         title\u001b[38;5;241m=\u001b[39mrow[\u001b[38;5;124m'\u001b[39m\u001b[38;5;124mtitle\u001b[39m\u001b[38;5;124m'\u001b[39m],\n\u001b[1;32m   (...)\u001b[0m\n\u001b[0;32m    689\u001b[0m         \u001b[38;5;66;03m# Dovrai recuperare le aree separatamente se necessario\u001b[39;00m\n\u001b[0;32m    690\u001b[0m     )\n\u001b[1;32m--> 691\u001b[0m     \u001b[38;5;28mprint\u001b[39m(\u001b[38;5;124m'\u001b[39m\u001b[38;5;124mcategory list:\u001b[39m\u001b[38;5;124m'\u001b[39m, \u001b[38;5;28;43mself\u001b[39;49m\u001b[38;5;241;43m.\u001b[39;49m\u001b[43mgetCategory\u001b[49m\u001b[43m(\u001b[49m\u001b[43mrow\u001b[49m\u001b[43m[\u001b[49m\u001b[38;5;124;43m'\u001b[39;49m\u001b[38;5;124;43missn\u001b[39;49m\u001b[38;5;124;43m'\u001b[39;49m\u001b[43m]\u001b[49m\u001b[43m)\u001b[49m)\n\u001b[0;32m    692\u001b[0m     journal_list\u001b[38;5;241m.\u001b[39mappend(journal)\n\u001b[0;32m    694\u001b[0m \u001b[38;5;28;01mreturn\u001b[39;00m journal_df\n",
      "File \u001b[1;32mc:\\Users\\edoar\\Documents\\GitHub\\Data-science-group-project\\our_project\\impl_with_modification.py:611\u001b[0m, in \u001b[0;36mBasicQueryEngine.getCategory\u001b[1;34m(self, issn)\u001b[0m\n\u001b[0;32m    609\u001b[0m all_category_dfs \u001b[38;5;241m=\u001b[39m \u001b[38;5;28mlist\u001b[39m()\n\u001b[0;32m    610\u001b[0m \u001b[38;5;28;01mfor\u001b[39;00m handler \u001b[38;5;129;01min\u001b[39;00m \u001b[38;5;28mself\u001b[39m\u001b[38;5;241m.\u001b[39mcategoryQuery:\n\u001b[1;32m--> 611\u001b[0m     new_category_df \u001b[38;5;241m=\u001b[39m \u001b[43mhandler\u001b[49m\u001b[38;5;241;43m.\u001b[39;49m\u001b[43mgetAllCat_id_quartile\u001b[49m\u001b[43m(\u001b[49m\u001b[43m)\u001b[49m\n\u001b[0;32m    612\u001b[0m     all_category_dfs\u001b[38;5;241m.\u001b[39mappend(new_category_df)\n\u001b[0;32m    614\u001b[0m \u001b[38;5;28;01mif\u001b[39;00m all_category_dfs:\n",
      "File \u001b[1;32mc:\\Users\\edoar\\Documents\\GitHub\\Data-science-group-project\\our_project\\impl_with_modification.py:423\u001b[0m, in \u001b[0;36mCategoryQueryHandler.getAllCat_id_quartile\u001b[1;34m(self)\u001b[0m\n\u001b[0;32m    421\u001b[0m \u001b[38;5;28;01mwith\u001b[39;00m connect(\u001b[38;5;28mself\u001b[39m\u001b[38;5;241m.\u001b[39mdbPathOrUrl) \u001b[38;5;28;01mas\u001b[39;00m con:\n\u001b[0;32m    422\u001b[0m     query \u001b[38;5;241m=\u001b[39m \u001b[38;5;124m\"\u001b[39m\u001b[38;5;124mSELECT DISTINCT identifiers, category_id, category_quartile FROM info\u001b[39m\u001b[38;5;124m\"\u001b[39m\n\u001b[1;32m--> 423\u001b[0m     df \u001b[38;5;241m=\u001b[39m \u001b[43mpd\u001b[49m\u001b[38;5;241;43m.\u001b[39;49m\u001b[43mread_sql_query\u001b[49m\u001b[43m(\u001b[49m\u001b[43mquery\u001b[49m\u001b[43m,\u001b[49m\u001b[43m \u001b[49m\u001b[43mcon\u001b[49m\u001b[43m)\u001b[49m\n\u001b[0;32m    424\u001b[0m \u001b[38;5;28;01mreturn\u001b[39;00m df\n",
      "File \u001b[1;32mc:\\Users\\edoar\\anaconda3\\envs\\edo_venv\\Lib\\site-packages\\pandas\\io\\sql.py:526\u001b[0m, in \u001b[0;36mread_sql_query\u001b[1;34m(sql, con, index_col, coerce_float, params, parse_dates, chunksize, dtype, dtype_backend)\u001b[0m\n\u001b[0;32m    523\u001b[0m \u001b[38;5;28;01massert\u001b[39;00m dtype_backend \u001b[38;5;129;01mis\u001b[39;00m \u001b[38;5;129;01mnot\u001b[39;00m lib\u001b[38;5;241m.\u001b[39mno_default\n\u001b[0;32m    525\u001b[0m \u001b[38;5;28;01mwith\u001b[39;00m pandasSQL_builder(con) \u001b[38;5;28;01mas\u001b[39;00m pandas_sql:\n\u001b[1;32m--> 526\u001b[0m     \u001b[38;5;28;01mreturn\u001b[39;00m \u001b[43mpandas_sql\u001b[49m\u001b[38;5;241;43m.\u001b[39;49m\u001b[43mread_query\u001b[49m\u001b[43m(\u001b[49m\n\u001b[0;32m    527\u001b[0m \u001b[43m        \u001b[49m\u001b[43msql\u001b[49m\u001b[43m,\u001b[49m\n\u001b[0;32m    528\u001b[0m \u001b[43m        \u001b[49m\u001b[43mindex_col\u001b[49m\u001b[38;5;241;43m=\u001b[39;49m\u001b[43mindex_col\u001b[49m\u001b[43m,\u001b[49m\n\u001b[0;32m    529\u001b[0m \u001b[43m        \u001b[49m\u001b[43mparams\u001b[49m\u001b[38;5;241;43m=\u001b[39;49m\u001b[43mparams\u001b[49m\u001b[43m,\u001b[49m\n\u001b[0;32m    530\u001b[0m \u001b[43m        \u001b[49m\u001b[43mcoerce_float\u001b[49m\u001b[38;5;241;43m=\u001b[39;49m\u001b[43mcoerce_float\u001b[49m\u001b[43m,\u001b[49m\n\u001b[0;32m    531\u001b[0m \u001b[43m        \u001b[49m\u001b[43mparse_dates\u001b[49m\u001b[38;5;241;43m=\u001b[39;49m\u001b[43mparse_dates\u001b[49m\u001b[43m,\u001b[49m\n\u001b[0;32m    532\u001b[0m \u001b[43m        \u001b[49m\u001b[43mchunksize\u001b[49m\u001b[38;5;241;43m=\u001b[39;49m\u001b[43mchunksize\u001b[49m\u001b[43m,\u001b[49m\n\u001b[0;32m    533\u001b[0m \u001b[43m        \u001b[49m\u001b[43mdtype\u001b[49m\u001b[38;5;241;43m=\u001b[39;49m\u001b[43mdtype\u001b[49m\u001b[43m,\u001b[49m\n\u001b[0;32m    534\u001b[0m \u001b[43m        \u001b[49m\u001b[43mdtype_backend\u001b[49m\u001b[38;5;241;43m=\u001b[39;49m\u001b[43mdtype_backend\u001b[49m\u001b[43m,\u001b[49m\n\u001b[0;32m    535\u001b[0m \u001b[43m    \u001b[49m\u001b[43m)\u001b[49m\n",
      "File \u001b[1;32mc:\\Users\\edoar\\anaconda3\\envs\\edo_venv\\Lib\\site-packages\\pandas\\io\\sql.py:2756\u001b[0m, in \u001b[0;36mSQLiteDatabase.read_query\u001b[1;34m(self, sql, index_col, coerce_float, parse_dates, params, chunksize, dtype, dtype_backend)\u001b[0m\n\u001b[0;32m   2753\u001b[0m data \u001b[38;5;241m=\u001b[39m \u001b[38;5;28mself\u001b[39m\u001b[38;5;241m.\u001b[39m_fetchall_as_list(cursor)\n\u001b[0;32m   2754\u001b[0m cursor\u001b[38;5;241m.\u001b[39mclose()\n\u001b[1;32m-> 2756\u001b[0m frame \u001b[38;5;241m=\u001b[39m \u001b[43m_wrap_result\u001b[49m\u001b[43m(\u001b[49m\n\u001b[0;32m   2757\u001b[0m \u001b[43m    \u001b[49m\u001b[43mdata\u001b[49m\u001b[43m,\u001b[49m\n\u001b[0;32m   2758\u001b[0m \u001b[43m    \u001b[49m\u001b[43mcolumns\u001b[49m\u001b[43m,\u001b[49m\n\u001b[0;32m   2759\u001b[0m \u001b[43m    \u001b[49m\u001b[43mindex_col\u001b[49m\u001b[38;5;241;43m=\u001b[39;49m\u001b[43mindex_col\u001b[49m\u001b[43m,\u001b[49m\n\u001b[0;32m   2760\u001b[0m \u001b[43m    \u001b[49m\u001b[43mcoerce_float\u001b[49m\u001b[38;5;241;43m=\u001b[39;49m\u001b[43mcoerce_float\u001b[49m\u001b[43m,\u001b[49m\n\u001b[0;32m   2761\u001b[0m \u001b[43m    \u001b[49m\u001b[43mparse_dates\u001b[49m\u001b[38;5;241;43m=\u001b[39;49m\u001b[43mparse_dates\u001b[49m\u001b[43m,\u001b[49m\n\u001b[0;32m   2762\u001b[0m \u001b[43m    \u001b[49m\u001b[43mdtype\u001b[49m\u001b[38;5;241;43m=\u001b[39;49m\u001b[43mdtype\u001b[49m\u001b[43m,\u001b[49m\n\u001b[0;32m   2763\u001b[0m \u001b[43m    \u001b[49m\u001b[43mdtype_backend\u001b[49m\u001b[38;5;241;43m=\u001b[39;49m\u001b[43mdtype_backend\u001b[49m\u001b[43m,\u001b[49m\n\u001b[0;32m   2764\u001b[0m \u001b[43m\u001b[49m\u001b[43m)\u001b[49m\n\u001b[0;32m   2765\u001b[0m \u001b[38;5;28;01mreturn\u001b[39;00m frame\n",
      "File \u001b[1;32mc:\\Users\\edoar\\anaconda3\\envs\\edo_venv\\Lib\\site-packages\\pandas\\io\\sql.py:204\u001b[0m, in \u001b[0;36m_wrap_result\u001b[1;34m(data, columns, index_col, coerce_float, parse_dates, dtype, dtype_backend)\u001b[0m\n\u001b[0;32m    194\u001b[0m \u001b[38;5;28;01mdef\u001b[39;00m \u001b[38;5;21m_wrap_result\u001b[39m(\n\u001b[0;32m    195\u001b[0m     data,\n\u001b[0;32m    196\u001b[0m     columns,\n\u001b[1;32m   (...)\u001b[0m\n\u001b[0;32m    201\u001b[0m     dtype_backend: DtypeBackend \u001b[38;5;241m|\u001b[39m Literal[\u001b[38;5;124m\"\u001b[39m\u001b[38;5;124mnumpy\u001b[39m\u001b[38;5;124m\"\u001b[39m] \u001b[38;5;241m=\u001b[39m \u001b[38;5;124m\"\u001b[39m\u001b[38;5;124mnumpy\u001b[39m\u001b[38;5;124m\"\u001b[39m,\n\u001b[0;32m    202\u001b[0m ):\n\u001b[0;32m    203\u001b[0m \u001b[38;5;250m    \u001b[39m\u001b[38;5;124;03m\"\"\"Wrap result set of a SQLAlchemy query in a DataFrame.\"\"\"\u001b[39;00m\n\u001b[1;32m--> 204\u001b[0m     frame \u001b[38;5;241m=\u001b[39m \u001b[43m_convert_arrays_to_dataframe\u001b[49m\u001b[43m(\u001b[49m\u001b[43mdata\u001b[49m\u001b[43m,\u001b[49m\u001b[43m \u001b[49m\u001b[43mcolumns\u001b[49m\u001b[43m,\u001b[49m\u001b[43m \u001b[49m\u001b[43mcoerce_float\u001b[49m\u001b[43m,\u001b[49m\u001b[43m \u001b[49m\u001b[43mdtype_backend\u001b[49m\u001b[43m)\u001b[49m\n\u001b[0;32m    206\u001b[0m     \u001b[38;5;28;01mif\u001b[39;00m dtype:\n\u001b[0;32m    207\u001b[0m         frame \u001b[38;5;241m=\u001b[39m frame\u001b[38;5;241m.\u001b[39mastype(dtype)\n",
      "File \u001b[1;32mc:\\Users\\edoar\\anaconda3\\envs\\edo_venv\\Lib\\site-packages\\pandas\\io\\sql.py:187\u001b[0m, in \u001b[0;36m_convert_arrays_to_dataframe\u001b[1;34m(data, columns, coerce_float, dtype_backend)\u001b[0m\n\u001b[0;32m    185\u001b[0m     arrays \u001b[38;5;241m=\u001b[39m result_arrays  \u001b[38;5;66;03m# type: ignore[assignment]\u001b[39;00m\n\u001b[0;32m    186\u001b[0m \u001b[38;5;28;01mif\u001b[39;00m arrays:\n\u001b[1;32m--> 187\u001b[0m     df \u001b[38;5;241m=\u001b[39m \u001b[43mDataFrame\u001b[49m\u001b[43m(\u001b[49m\u001b[38;5;28;43mdict\u001b[39;49m\u001b[43m(\u001b[49m\u001b[38;5;28;43mzip\u001b[39;49m\u001b[43m(\u001b[49m\u001b[38;5;28;43mlist\u001b[39;49m\u001b[43m(\u001b[49m\u001b[38;5;28;43mrange\u001b[39;49m\u001b[43m(\u001b[49m\u001b[38;5;28;43mlen\u001b[39;49m\u001b[43m(\u001b[49m\u001b[43mcolumns\u001b[49m\u001b[43m)\u001b[49m\u001b[43m)\u001b[49m\u001b[43m)\u001b[49m\u001b[43m,\u001b[49m\u001b[43m \u001b[49m\u001b[43marrays\u001b[49m\u001b[43m)\u001b[49m\u001b[43m)\u001b[49m\u001b[43m)\u001b[49m\n\u001b[0;32m    188\u001b[0m     df\u001b[38;5;241m.\u001b[39mcolumns \u001b[38;5;241m=\u001b[39m columns\n\u001b[0;32m    189\u001b[0m     \u001b[38;5;28;01mreturn\u001b[39;00m df\n",
      "File \u001b[1;32mc:\\Users\\edoar\\anaconda3\\envs\\edo_venv\\Lib\\site-packages\\pandas\\core\\frame.py:778\u001b[0m, in \u001b[0;36mDataFrame.__init__\u001b[1;34m(self, data, index, columns, dtype, copy)\u001b[0m\n\u001b[0;32m    772\u001b[0m     mgr \u001b[38;5;241m=\u001b[39m \u001b[38;5;28mself\u001b[39m\u001b[38;5;241m.\u001b[39m_init_mgr(\n\u001b[0;32m    773\u001b[0m         data, axes\u001b[38;5;241m=\u001b[39m{\u001b[38;5;124m\"\u001b[39m\u001b[38;5;124mindex\u001b[39m\u001b[38;5;124m\"\u001b[39m: index, \u001b[38;5;124m\"\u001b[39m\u001b[38;5;124mcolumns\u001b[39m\u001b[38;5;124m\"\u001b[39m: columns}, dtype\u001b[38;5;241m=\u001b[39mdtype, copy\u001b[38;5;241m=\u001b[39mcopy\n\u001b[0;32m    774\u001b[0m     )\n\u001b[0;32m    776\u001b[0m \u001b[38;5;28;01melif\u001b[39;00m \u001b[38;5;28misinstance\u001b[39m(data, \u001b[38;5;28mdict\u001b[39m):\n\u001b[0;32m    777\u001b[0m     \u001b[38;5;66;03m# GH#38939 de facto copy defaults to False only in non-dict cases\u001b[39;00m\n\u001b[1;32m--> 778\u001b[0m     mgr \u001b[38;5;241m=\u001b[39m \u001b[43mdict_to_mgr\u001b[49m\u001b[43m(\u001b[49m\u001b[43mdata\u001b[49m\u001b[43m,\u001b[49m\u001b[43m \u001b[49m\u001b[43mindex\u001b[49m\u001b[43m,\u001b[49m\u001b[43m \u001b[49m\u001b[43mcolumns\u001b[49m\u001b[43m,\u001b[49m\u001b[43m \u001b[49m\u001b[43mdtype\u001b[49m\u001b[38;5;241;43m=\u001b[39;49m\u001b[43mdtype\u001b[49m\u001b[43m,\u001b[49m\u001b[43m \u001b[49m\u001b[43mcopy\u001b[49m\u001b[38;5;241;43m=\u001b[39;49m\u001b[43mcopy\u001b[49m\u001b[43m,\u001b[49m\u001b[43m \u001b[49m\u001b[43mtyp\u001b[49m\u001b[38;5;241;43m=\u001b[39;49m\u001b[43mmanager\u001b[49m\u001b[43m)\u001b[49m\n\u001b[0;32m    779\u001b[0m \u001b[38;5;28;01melif\u001b[39;00m \u001b[38;5;28misinstance\u001b[39m(data, ma\u001b[38;5;241m.\u001b[39mMaskedArray):\n\u001b[0;32m    780\u001b[0m     \u001b[38;5;28;01mfrom\u001b[39;00m \u001b[38;5;21;01mnumpy\u001b[39;00m\u001b[38;5;21;01m.\u001b[39;00m\u001b[38;5;21;01mma\u001b[39;00m \u001b[38;5;28;01mimport\u001b[39;00m mrecords\n",
      "File \u001b[1;32mc:\\Users\\edoar\\anaconda3\\envs\\edo_venv\\Lib\\site-packages\\pandas\\core\\internals\\construction.py:503\u001b[0m, in \u001b[0;36mdict_to_mgr\u001b[1;34m(data, index, columns, dtype, typ, copy)\u001b[0m\n\u001b[0;32m    499\u001b[0m     \u001b[38;5;28;01melse\u001b[39;00m:\n\u001b[0;32m    500\u001b[0m         \u001b[38;5;66;03m# dtype check to exclude e.g. range objects, scalars\u001b[39;00m\n\u001b[0;32m    501\u001b[0m         arrays \u001b[38;5;241m=\u001b[39m [x\u001b[38;5;241m.\u001b[39mcopy() \u001b[38;5;28;01mif\u001b[39;00m \u001b[38;5;28mhasattr\u001b[39m(x, \u001b[38;5;124m\"\u001b[39m\u001b[38;5;124mdtype\u001b[39m\u001b[38;5;124m\"\u001b[39m) \u001b[38;5;28;01melse\u001b[39;00m x \u001b[38;5;28;01mfor\u001b[39;00m x \u001b[38;5;129;01min\u001b[39;00m arrays]\n\u001b[1;32m--> 503\u001b[0m \u001b[38;5;28;01mreturn\u001b[39;00m \u001b[43marrays_to_mgr\u001b[49m\u001b[43m(\u001b[49m\u001b[43marrays\u001b[49m\u001b[43m,\u001b[49m\u001b[43m \u001b[49m\u001b[43mcolumns\u001b[49m\u001b[43m,\u001b[49m\u001b[43m \u001b[49m\u001b[43mindex\u001b[49m\u001b[43m,\u001b[49m\u001b[43m \u001b[49m\u001b[43mdtype\u001b[49m\u001b[38;5;241;43m=\u001b[39;49m\u001b[43mdtype\u001b[49m\u001b[43m,\u001b[49m\u001b[43m \u001b[49m\u001b[43mtyp\u001b[49m\u001b[38;5;241;43m=\u001b[39;49m\u001b[43mtyp\u001b[49m\u001b[43m,\u001b[49m\u001b[43m \u001b[49m\u001b[43mconsolidate\u001b[49m\u001b[38;5;241;43m=\u001b[39;49m\u001b[43mcopy\u001b[49m\u001b[43m)\u001b[49m\n",
      "File \u001b[1;32mc:\\Users\\edoar\\anaconda3\\envs\\edo_venv\\Lib\\site-packages\\pandas\\core\\internals\\construction.py:152\u001b[0m, in \u001b[0;36marrays_to_mgr\u001b[1;34m(arrays, columns, index, dtype, verify_integrity, typ, consolidate)\u001b[0m\n\u001b[0;32m    149\u001b[0m axes \u001b[38;5;241m=\u001b[39m [columns, index]\n\u001b[0;32m    151\u001b[0m \u001b[38;5;28;01mif\u001b[39;00m typ \u001b[38;5;241m==\u001b[39m \u001b[38;5;124m\"\u001b[39m\u001b[38;5;124mblock\u001b[39m\u001b[38;5;124m\"\u001b[39m:\n\u001b[1;32m--> 152\u001b[0m     \u001b[38;5;28;01mreturn\u001b[39;00m \u001b[43mcreate_block_manager_from_column_arrays\u001b[49m\u001b[43m(\u001b[49m\n\u001b[0;32m    153\u001b[0m \u001b[43m        \u001b[49m\u001b[43marrays\u001b[49m\u001b[43m,\u001b[49m\u001b[43m \u001b[49m\u001b[43maxes\u001b[49m\u001b[43m,\u001b[49m\u001b[43m \u001b[49m\u001b[43mconsolidate\u001b[49m\u001b[38;5;241;43m=\u001b[39;49m\u001b[43mconsolidate\u001b[49m\u001b[43m,\u001b[49m\u001b[43m \u001b[49m\u001b[43mrefs\u001b[49m\u001b[38;5;241;43m=\u001b[39;49m\u001b[43mrefs\u001b[49m\n\u001b[0;32m    154\u001b[0m \u001b[43m    \u001b[49m\u001b[43m)\u001b[49m\n\u001b[0;32m    155\u001b[0m \u001b[38;5;28;01melif\u001b[39;00m typ \u001b[38;5;241m==\u001b[39m \u001b[38;5;124m\"\u001b[39m\u001b[38;5;124marray\u001b[39m\u001b[38;5;124m\"\u001b[39m:\n\u001b[0;32m    156\u001b[0m     \u001b[38;5;28;01mreturn\u001b[39;00m ArrayManager(arrays, [index, columns])\n",
      "File \u001b[1;32mc:\\Users\\edoar\\anaconda3\\envs\\edo_venv\\Lib\\site-packages\\pandas\\core\\internals\\managers.py:2139\u001b[0m, in \u001b[0;36mcreate_block_manager_from_column_arrays\u001b[1;34m(arrays, axes, consolidate, refs)\u001b[0m\n\u001b[0;32m   2121\u001b[0m \u001b[38;5;28;01mdef\u001b[39;00m \u001b[38;5;21mcreate_block_manager_from_column_arrays\u001b[39m(\n\u001b[0;32m   2122\u001b[0m     arrays: \u001b[38;5;28mlist\u001b[39m[ArrayLike],\n\u001b[0;32m   2123\u001b[0m     axes: \u001b[38;5;28mlist\u001b[39m[Index],\n\u001b[1;32m   (...)\u001b[0m\n\u001b[0;32m   2135\u001b[0m     \u001b[38;5;66;03m# These last three are sufficient to allow us to safely pass\u001b[39;00m\n\u001b[0;32m   2136\u001b[0m     \u001b[38;5;66;03m#  verify_integrity=False below.\u001b[39;00m\n\u001b[0;32m   2138\u001b[0m     \u001b[38;5;28;01mtry\u001b[39;00m:\n\u001b[1;32m-> 2139\u001b[0m         blocks \u001b[38;5;241m=\u001b[39m \u001b[43m_form_blocks\u001b[49m\u001b[43m(\u001b[49m\u001b[43marrays\u001b[49m\u001b[43m,\u001b[49m\u001b[43m \u001b[49m\u001b[43mconsolidate\u001b[49m\u001b[43m,\u001b[49m\u001b[43m \u001b[49m\u001b[43mrefs\u001b[49m\u001b[43m)\u001b[49m\n\u001b[0;32m   2140\u001b[0m         mgr \u001b[38;5;241m=\u001b[39m BlockManager(blocks, axes, verify_integrity\u001b[38;5;241m=\u001b[39m\u001b[38;5;28;01mFalse\u001b[39;00m)\n\u001b[0;32m   2141\u001b[0m     \u001b[38;5;28;01mexcept\u001b[39;00m \u001b[38;5;167;01mValueError\u001b[39;00m \u001b[38;5;28;01mas\u001b[39;00m e:\n",
      "File \u001b[1;32mc:\\Users\\edoar\\anaconda3\\envs\\edo_venv\\Lib\\site-packages\\pandas\\core\\internals\\managers.py:2212\u001b[0m, in \u001b[0;36m_form_blocks\u001b[1;34m(arrays, consolidate, refs)\u001b[0m\n\u001b[0;32m   2209\u001b[0m \u001b[38;5;28;01mif\u001b[39;00m \u001b[38;5;28missubclass\u001b[39m(dtype\u001b[38;5;241m.\u001b[39mtype, (\u001b[38;5;28mstr\u001b[39m, \u001b[38;5;28mbytes\u001b[39m)):\n\u001b[0;32m   2210\u001b[0m     dtype \u001b[38;5;241m=\u001b[39m np\u001b[38;5;241m.\u001b[39mdtype(\u001b[38;5;28mobject\u001b[39m)\n\u001b[1;32m-> 2212\u001b[0m values, placement \u001b[38;5;241m=\u001b[39m \u001b[43m_stack_arrays\u001b[49m\u001b[43m(\u001b[49m\u001b[38;5;28;43mlist\u001b[39;49m\u001b[43m(\u001b[49m\u001b[43mtup_block\u001b[49m\u001b[43m)\u001b[49m\u001b[43m,\u001b[49m\u001b[43m \u001b[49m\u001b[43mdtype\u001b[49m\u001b[43m)\u001b[49m\n\u001b[0;32m   2213\u001b[0m \u001b[38;5;28;01mif\u001b[39;00m is_dtlike:\n\u001b[0;32m   2214\u001b[0m     values \u001b[38;5;241m=\u001b[39m ensure_wrapped_if_datetimelike(values)\n",
      "File \u001b[1;32mc:\\Users\\edoar\\anaconda3\\envs\\edo_venv\\Lib\\site-packages\\pandas\\core\\internals\\managers.py:2252\u001b[0m, in \u001b[0;36m_stack_arrays\u001b[1;34m(tuples, dtype)\u001b[0m\n\u001b[0;32m   2249\u001b[0m first \u001b[38;5;241m=\u001b[39m arrays[\u001b[38;5;241m0\u001b[39m]\n\u001b[0;32m   2250\u001b[0m shape \u001b[38;5;241m=\u001b[39m (\u001b[38;5;28mlen\u001b[39m(arrays),) \u001b[38;5;241m+\u001b[39m first\u001b[38;5;241m.\u001b[39mshape\n\u001b[1;32m-> 2252\u001b[0m stacked \u001b[38;5;241m=\u001b[39m np\u001b[38;5;241m.\u001b[39mempty(shape, dtype\u001b[38;5;241m=\u001b[39mdtype)\n\u001b[0;32m   2253\u001b[0m \u001b[38;5;28;01mfor\u001b[39;00m i, arr \u001b[38;5;129;01min\u001b[39;00m \u001b[38;5;28menumerate\u001b[39m(arrays):\n\u001b[0;32m   2254\u001b[0m     stacked[i] \u001b[38;5;241m=\u001b[39m arr\n",
      "\u001b[1;31mKeyboardInterrupt\u001b[0m: "
     ]
    }
   ],
   "source": [
    "# result_q1 = que.getJournalsWithTitle('مجلة كلي')\n",
    "result_q1 = que.getAllJournals()\n",
    "# reslt_q1 = que.getJournalsWithDOAJSeal()\n",
    "# result_q1 = que.getCategory('1542-4863')\n",
    "result_q1"
   ]
  },
  {
   "cell_type": "markdown",
   "id": "7c3f639a",
   "metadata": {},
   "source": [
    "#### edo stuff"
   ]
  },
  {
   "cell_type": "code",
   "execution_count": 4,
   "id": "d99e4829",
   "metadata": {},
   "outputs": [],
   "source": [
    "import os\n",
    "import json\n",
    "import numpy as np\n",
    "import pandas as pd\n",
    "from sqlite3 import connect\n",
    "import SPARQLWrapper\n",
    "from rdflib import Graph, URIRef, Literal, RDF \n",
    "from rdflib.plugins.stores.sparqlstore import SPARQLUpdateStore"
   ]
  },
  {
   "cell_type": "code",
   "execution_count": 8,
   "id": "0de9c208",
   "metadata": {},
   "outputs": [
    {
     "data": {
      "application/vnd.microsoft.datawrangler.viewer.v0+json": {
       "columns": [
        {
         "name": "index",
         "rawType": "int64",
         "type": "integer"
        },
        {
         "name": "Journal title",
         "rawType": "object",
         "type": "string"
        },
        {
         "name": "Journal ISSN (print version)",
         "rawType": "object",
         "type": "string"
        },
        {
         "name": "Journal EISSN (online version)",
         "rawType": "object",
         "type": "string"
        },
        {
         "name": "Languages in which the journal accepts manuscripts",
         "rawType": "object",
         "type": "string"
        },
        {
         "name": "Publisher",
         "rawType": "object",
         "type": "string"
        },
        {
         "name": "DOAJ Seal",
         "rawType": "object",
         "type": "string"
        },
        {
         "name": "Journal license",
         "rawType": "object",
         "type": "string"
        },
        {
         "name": "APC",
         "rawType": "object",
         "type": "string"
        }
       ],
       "conversionMethod": "pd.DataFrame",
       "ref": "1dcd1f0a-1aed-4aa5-a083-b313e293f6c4",
       "rows": [
        [
         "176",
         "Revista Ciencias Marinas y Costeras",
         "1659-455X",
         "1659-407X",
         "English, Spanish",
         "Universidad Nacional, Costa Rica",
         "No",
         "CC BY-NC-SA",
         "No"
        ]
       ],
       "shape": {
        "columns": 8,
        "rows": 1
       }
      },
      "text/html": [
       "<div>\n",
       "<style scoped>\n",
       "    .dataframe tbody tr th:only-of-type {\n",
       "        vertical-align: middle;\n",
       "    }\n",
       "\n",
       "    .dataframe tbody tr th {\n",
       "        vertical-align: top;\n",
       "    }\n",
       "\n",
       "    .dataframe thead th {\n",
       "        text-align: right;\n",
       "    }\n",
       "</style>\n",
       "<table border=\"1\" class=\"dataframe\">\n",
       "  <thead>\n",
       "    <tr style=\"text-align: right;\">\n",
       "      <th></th>\n",
       "      <th>Journal title</th>\n",
       "      <th>Journal ISSN (print version)</th>\n",
       "      <th>Journal EISSN (online version)</th>\n",
       "      <th>Languages in which the journal accepts manuscripts</th>\n",
       "      <th>Publisher</th>\n",
       "      <th>DOAJ Seal</th>\n",
       "      <th>Journal license</th>\n",
       "      <th>APC</th>\n",
       "    </tr>\n",
       "  </thead>\n",
       "  <tbody>\n",
       "    <tr>\n",
       "      <th>176</th>\n",
       "      <td>Revista Ciencias Marinas y Costeras</td>\n",
       "      <td>1659-455X</td>\n",
       "      <td>1659-407X</td>\n",
       "      <td>English, Spanish</td>\n",
       "      <td>Universidad Nacional, Costa Rica</td>\n",
       "      <td>No</td>\n",
       "      <td>CC BY-NC-SA</td>\n",
       "      <td>No</td>\n",
       "    </tr>\n",
       "  </tbody>\n",
       "</table>\n",
       "</div>"
      ],
      "text/plain": [
       "                           Journal title Journal ISSN (print version)  \\\n",
       "176  Revista Ciencias Marinas y Costeras                    1659-455X   \n",
       "\n",
       "    Journal EISSN (online version)  \\\n",
       "176                      1659-407X   \n",
       "\n",
       "    Languages in which the journal accepts manuscripts  \\\n",
       "176                                   English, Spanish   \n",
       "\n",
       "                            Publisher DOAJ Seal Journal license APC  \n",
       "176  Universidad Nacional, Costa Rica        No     CC BY-NC-SA  No  "
      ]
     },
     "execution_count": 8,
     "metadata": {},
     "output_type": "execute_result"
    }
   ],
   "source": [
    "df = pd.read_csv('test_data/doaj.csv')\n",
    "counter = 0\n",
    "# df.info()\n",
    "entrambi_nan_1 = df[['Journal ISSN (print version)', 'Journal EISSN (online version)']].isna().all(axis=1).sum()\n",
    "# print(entrambi_nan_1)\n",
    "\n",
    "entrambi_non_nan = ~(df['Journal ISSN (print version)'].isna()) | ~(df['Journal EISSN (online version)'].isna())\n",
    "\n",
    "# Conta il numero di volte in cui la condizione è True\n",
    "conteggio = entrambi_non_nan.sum()\n",
    "# print(conteggio)\n",
    "\n",
    "seal_count = (df['Journal title'] == 'Revista Ciencias Marinas y Costeras') # Revista Ciencias Marinas y Costeras\n",
    "df[df['Journal title'] == 'Revista Ciencias Marinas y Costeras']"
   ]
  },
  {
   "cell_type": "code",
   "execution_count": null,
   "id": "9600ff4f",
   "metadata": {},
   "outputs": [],
   "source": [
    "    def getCategoriesWithQuartile(self, quartiles: set):\n",
    "        with connect(self.dbPathOrUrl) as con:\n",
    "            if not quartiles:\n",
    "                # Se l'insieme dei quartili in input è vuoto, seleziona tutte le categorie\n",
    "                query = \"\"\"\n",
    "                    SELECT DISTINCT category_internal_id, id, quartile\n",
    "                    FROM categories\n",
    "                \"\"\"\n",
    "                df = pd.read_sql_query(query, con)\n",
    "            else:\n",
    "                # Altrimenti, seleziona solo le categorie con i quartili specificati\n",
    "                placeholders = ', '.join(['?'] * len(quartiles))\n",
    "                query = f\"\"\"\n",
    "                    SELECT DISTINCT category_internal_id, id, quartile\n",
    "                    FROM categories\n",
    "                    WHERE quartile IN ({placeholders})\n",
    "                \"\"\"\n",
    "                df = pd.read_sql_query(query, con, params=list(quartiles))\n",
    "        return df\n",
    "\n",
    "    # Prendere tutte le categorie associate a una lista di aree\n",
    "    def getCategoriesAssignedToAreas(self, areas: set):\n",
    "        with connect(self.dbPathOrUrl) as con:\n",
    "            if not areas:\n",
    "                query = f\"\"\"\n",
    "                    SELECT DISTINCT c.id, a.area\n",
    "                    FROM categories c \n",
    "                \"\"\"\n",
    "                df = pd.read_sql_query(query, con)\n",
    "            else:\n",
    "                placeholders = ', '.join(['?'] * len(areas))\n",
    "                query = f\"\"\"\n",
    "                SELECT DISTINCT c.id, a.area\n",
    "                FROM categories c\n",
    "                JOIN areas a ON c.item_internal_id = a.item_internal_id\n",
    "                WHERE a.area IN ({placeholders})\n",
    "                \"\"\"\n",
    "                df = pd.read_sql_query(query, con, params=list(areas))\n",
    "        return df"
   ]
  },
  {
   "cell_type": "markdown",
   "id": "8da3941f",
   "metadata": {},
   "source": [
    "## Cose da vedere con Chiara\n",
    "\n",
    "- JournalUploadHandler\n",
    "    - siamo sicuri di dover splittare 'language'?\n",
    "    - penso si debbano aggiungere delle colonne che traccino hasCategory e hasArea nel db a grafo, mostrale nei test le tabelle che ti sono genute con i metodi e poi vai in BasicMashup a createObjectList (per le parti 0..* creai prima una lista vuota ed if row[hasCategory] != \"\" crei una nuova lista con i valori interni)\n",
    "\n",
    "- CI serve una chiave primaria, un id univoco in ogni tabella "
   ]
  },
  {
   "cell_type": "code",
   "execution_count": 31,
   "id": "e4a2916f",
   "metadata": {},
   "outputs": [
    {
     "name": "stdout",
     "output_type": "stream",
     "text": [
      "{'identifiers': ['1474-175X', '1474-1768'], 'categories': [{'id': 'Cancer Research', 'quartile': 'Q1'}, {'id': 'Oncology', 'quartile': 'Q1'}], 'areas': ['Biochemistry, Genetics and Molecular Biology', 'Medicine']}\n"
     ]
    }
   ],
   "source": [
    "import json\n",
    "path = 'test_data/scimago.json'\n",
    "with open(path, 'r') as a:\n",
    "    file = json.load(a)\n",
    "\n",
    "counter = list()\n",
    "for items in file:\n",
    "    for id in items.get('identifiers'):\n",
    "        # print(id)\n",
    "        # break \n",
    "        if id == '1474-175X':\n",
    "            print(items)\n",
    "    # counter.append(items.get('identifiers'))\n",
    "# print(len(counter))\n",
    "    "
   ]
  },
  {
   "cell_type": "code",
   "execution_count": null,
   "id": "84d8c0f4",
   "metadata": {},
   "outputs": [
    {
     "data": {
      "application/vnd.microsoft.datawrangler.viewer.v0+json": {
       "columns": [
        {
         "name": "index",
         "rawType": "int64",
         "type": "integer"
        },
        {
         "name": "Journal title",
         "rawType": "object",
         "type": "string"
        },
        {
         "name": "Journal ISSN (print version)",
         "rawType": "object",
         "type": "unknown"
        },
        {
         "name": "Journal EISSN (online version)",
         "rawType": "object",
         "type": "unknown"
        },
        {
         "name": "Languages in which the journal accepts manuscripts",
         "rawType": "object",
         "type": "string"
        },
        {
         "name": "Publisher",
         "rawType": "object",
         "type": "string"
        },
        {
         "name": "DOAJ Seal",
         "rawType": "object",
         "type": "string"
        },
        {
         "name": "Journal license",
         "rawType": "object",
         "type": "string"
        },
        {
         "name": "APC",
         "rawType": "object",
         "type": "string"
        }
       ],
       "conversionMethod": "pd.DataFrame",
       "ref": "d9b82689-d3b8-4614-809a-19f10d43b008",
       "rows": [
        [
         "0",
         "Prolíngua",
         null,
         "1983-9979",
         "Portuguese",
         "Universidade Federal da Paraíba",
         "No",
         "CC BY-NC-SA",
         "No"
        ],
        [
         "1",
         "Проблеми Законності",
         "2224-9281",
         "2414-990X",
         "Ukrainian, Russian, English",
         "Yaroslav Mudryi National Law University",
         "No",
         "CC BY",
         "Yes"
        ],
        [
         "2",
         "Enlightening Tourism: A Pathmaking Journal",
         null,
         "2174-548X",
         "English",
         "University of Huelva",
         "No",
         "CC BY-NC",
         "No"
        ],
        [
         "3",
         "Scientific Journals of the Maritime University of Szczecin",
         "1733-8670",
         "2392-0378",
         "English",
         "MUS",
         "No",
         "CC BY",
         "Yes"
        ],
        [
         "4",
         "Fronteiras: Journal of Social, Technological and Environmental Science",
         null,
         "2238-8869",
         "Portuguese",
         "Centro Universitário de Anápolis",
         "No",
         "CC BY-NC",
         "No"
        ],
        [
         "5",
         "Semina: Ciências Agrárias",
         "1676-546X",
         "1679-0359",
         "Portuguese, English",
         "Universidade Estadual de Londrina",
         "No",
         "Publisher's own license",
         "Yes"
        ],
        [
         "6",
         "Raízes Jurídicas",
         null,
         "1981-3872",
         "Portuguese",
         "Universidade Positivo",
         "No",
         "CC BY",
         "No"
        ],
        [
         "7",
         "International Journal of Critical Pedagogy",
         null,
         "2157-1074",
         "English",
         "University of North Carolina at Greensboro",
         "No",
         "Publisher's own license",
         "No"
        ],
        [
         "8",
         "Iheringia: Série Zoologia",
         "0073-4721",
         "1678-4766",
         "English, Portuguese, Spanish",
         "Fundação Zoobotânica do Rio Grande do Sul",
         "No",
         "CC BY",
         "No"
        ],
        [
         "9",
         "INDEX Revista de Arte Contemporáneo",
         "1390-4825",
         "2477-9199",
         "Spanish",
         "Pontificia Universidad Católica del Ecuador",
         "No",
         "CC BY-NC",
         "No"
        ],
        [
         "10",
         "Jurnal Ilmiah Ilmu-Ilmu Peternakan",
         "1410-7791",
         "2528-0805",
         "Indonesian",
         "Universitas Jambi",
         "No",
         "CC BY",
         "Yes"
        ],
        [
         "11",
         "Research in Corpus Linguistics",
         null,
         "2243-4712",
         "English",
         "Asociación Española de Lingüística de Corpus",
         "No",
         "CC BY",
         "No"
        ],
        [
         "12",
         "Survey Methods - Insights from the Field",
         null,
         "2296-4754",
         "English",
         "FORS",
         "No",
         "CC BY",
         "No"
        ],
        [
         "13",
         "Concrete Operators",
         null,
         "2299-3282",
         "English",
         "De Gruyter",
         "No",
         "CC BY",
         "Yes"
        ],
        [
         "14",
         "Cuadernos de Lingüística de El Colegio de México",
         null,
         "2007-736X",
         "English, Spanish",
         "El Colegio de México, A.C.",
         "No",
         "CC BY",
         "No"
        ],
        [
         "15",
         "Revista de Sociologia, Antropologia e Cultura Jurídica",
         null,
         "2526-0251",
         "Portuguese",
         "Conselho Nacional de Pesquisa e Pós-graduação em Direito (CONPEDI)",
         "No",
         "CC BY-NC",
         "No"
        ],
        [
         "16",
         "Argumentos",
         null,
         "2525-0469",
         "Spanish",
         "Centro de Perfeccionamiento \"Ricardo C. Nuñez\" del Poder Judicial de la Provincia de Córdoba",
         "No",
         "CC BY-NC",
         "No"
        ],
        [
         "17",
         "Revista Colombiana de Biotecnología",
         "0123-3475",
         "1909-8758",
         "Spanish",
         "Universidad Nacional de Colombia",
         "No",
         "CC BY",
         "No"
        ],
        [
         "18",
         "Kandai",
         "1907-204X",
         "2527-5968",
         "English, Indonesian",
         "Kantor Bahasa Provinsi Sulawesi Tenggara",
         "No",
         "CC BY-NC-SA",
         "No"
        ],
        [
         "19",
         "Jurnal Psikologi Teori dan Terapan",
         "2087-1708",
         "2597-9035",
         "English, Indonesian",
         "Universitas Negeri Surabaya",
         "No",
         "CC BY-NC",
         "No"
        ],
        [
         "20",
         "Journal of Applied Research on Children",
         null,
         "2155-5834",
         "English",
         "Children at Risk",
         "No",
         "CC BY-NC-ND",
         "No"
        ],
        [
         "21",
         "Clinical and Experimental Otorhinolaryngology",
         "1976-8710",
         "2005-0720",
         "English",
         "Korean Society of Otorhinolaryngology-Head and Neck Surgery",
         "No",
         "CC BY-NC",
         "Yes"
        ],
        [
         "22",
         "Jurnal Iqra': Kajian Ilmu Pendidikan",
         "2527-4449",
         "2548-7892",
         "English, Indonesian",
         "IAI Ma'arif NUMetro Lampung",
         "No",
         "CC BY-SA",
         "No"
        ],
        [
         "23",
         "Cadernos de História",
         "2237-8871",
         "1679-5636",
         "Portuguese, Spanish",
         "Pontifícia Universidade Católica de Minas Gerais",
         "No",
         "CC BY",
         "No"
        ],
        [
         "24",
         "Tecnura",
         "0123-921X",
         "2248-7638",
         "Spanish",
         "Universidad Distrital Francisco Jose de Caldas",
         "No",
         "CC BY-SA",
         "No"
        ],
        [
         "25",
         "Tate Papers",
         null,
         "1753-9854",
         "English",
         "Tate",
         "No",
         "CC BY-NC-ND",
         "No"
        ],
        [
         "26",
         "Revista Ciencias Veterinarias",
         null,
         "2215-4507",
         "English, Spanish",
         "Universidad Nacional, Costa Rica",
         "No",
         "CC BY-NC-ND",
         "No"
        ],
        [
         "27",
         "Indonesian Journal of History Education",
         "2252-6641",
         "2549-0354",
         "Indonesian",
         "Universitas Negeri Semarang",
         "No",
         "CC BY",
         "No"
        ],
        [
         "28",
         "Revista da SBEnBIO",
         "1982-1867",
         "2763-8898",
         "Portuguese",
         "Marco Antonio Leandro Barzano",
         "No",
         "CC BY",
         "No"
        ],
        [
         "29",
         "Téssera",
         null,
         "2595-8925",
         "Portuguese",
         "Enivalda Nunes Freitas e Souza",
         "No",
         "CC BY-NC-ND",
         "No"
        ],
        [
         "30",
         "Półrocznik Językoznawczy Tertium",
         null,
         "2543-7844",
         "English, Polish",
         "Cracow Tertium Society for the Promotion of Language Studies",
         "No",
         "CC BY-NC-ND",
         "No"
        ],
        [
         "31",
         "Colloquium Agrariae",
         null,
         "1809-8215",
         "Portuguese",
         "University of Western Sao Paulo, UNOESTE",
         "No",
         "CC BY-NC-ND",
         "No"
        ],
        [
         "32",
         "Phytopathologia Mediterranea",
         "0031-9465",
         "1593-2095",
         "English",
         "Firenze University Press",
         "Yes",
         "CC BY",
         "Yes"
        ],
        [
         "33",
         "ORiON",
         "0259-191X",
         "2224-0004",
         "English",
         "Operations Research Society of South Africa (ORSSA)",
         "No",
         "CC BY",
         "No"
        ],
        [
         "34",
         "Journal of Human Security",
         null,
         "1835-3800",
         "English",
         "Librelloph",
         "Yes",
         "CC BY",
         "No"
        ],
        [
         "35",
         "Ciceroniana On Line",
         null,
         "2532-5353",
         "English, French, German, Italian, Spanish",
         "Università degli Studi di Torino",
         "No",
         "CC BY-SA",
         "No"
        ],
        [
         "36",
         "EQA",
         "2039-9898",
         "2281-4485",
         "English",
         "University of Bologna",
         "Yes",
         "CC BY-NC",
         "No"
        ],
        [
         "37",
         "Iluminuras",
         null,
         "1984-1191",
         "Portuguese",
         "Universidade Federal do Rio Grande do Sul",
         "No",
         "CC BY-NC",
         "No"
        ],
        [
         "38",
         "Learning and Teaching",
         "1755-2273",
         "1755-2281",
         "English",
         "Berghahn Books",
         "No",
         "CC BY, CC BY-ND, CC BY-NC-ND",
         "No"
        ],
        [
         "39",
         "Vestnik Volgogradskogo Gosudarstvennogo Universiteta. Seriâ 2. Âzykoznanie",
         "1998-9911",
         "2409-1979",
         "English, Russian",
         "Volgograd State University",
         "No",
         "CC BY",
         "No"
        ],
        [
         "40",
         "Telfor Journal",
         "1821-3251",
         "2334-9905",
         "English",
         "Telecommunications Society, Academic Mind",
         "No",
         "Publisher's own license",
         "No"
        ],
        [
         "41",
         "ITB Journal of Information and Communication Technology",
         "1978-3086",
         null,
         "English",
         "ITB Journal Publisher",
         "No",
         "CC BY-ND",
         "Yes"
        ],
        [
         "42",
         "Zephyrus",
         "0514-7336",
         "2386-3943",
         "English, Spanish",
         "Ediciones Universidad de Salamanca",
         "No",
         "CC BY-NC-ND",
         "No"
        ],
        [
         "43",
         "Phonica",
         null,
         "1699-8774",
         "Catalan, English, French, Galician, Italian, Portuguese, Spanish",
         "Universitat de Barcelona",
         "No",
         "CC BY",
         "No"
        ],
        [
         "44",
         "Revista Pegada Eletrônica",
         "1676-1871",
         "1676-3025",
         "Portuguese, Spanish",
         "Universidade Estadual Paulista Júlio de Mesquita Filho",
         "No",
         "CC BY",
         "No"
        ],
        [
         "45",
         "Rivista Italiana di Acustica",
         null,
         "2385-2615",
         "Italian, English",
         "Associazione Italiana di Acustica",
         "No",
         "CC BY",
         "No"
        ],
        [
         "46",
         "Austrian Law Journal",
         null,
         "2409-6911",
         "English, German",
         "Brigitte Lurger, Elisabeth Staudegger, Stefan Storr",
         "No",
         "CC BY",
         "No"
        ],
        [
         "47",
         "Open Biology",
         null,
         "2046-2441",
         "English",
         "The Royal Society",
         "Yes",
         "CC BY",
         "Yes"
        ],
        [
         "48",
         "Cadernos de Letras da UFF",
         "1413-053X",
         "2447-4207",
         "Portuguese",
         "Universidade Federal Fluminense",
         "No",
         "CC BY-NC",
         "No"
        ],
        [
         "49",
         "Revista Baiana de Educação Matemática",
         null,
         "2675-5246",
         "Portuguese",
         "Universidade do Estado da Bahia",
         "No",
         "CC BY-NC-SA",
         "No"
        ]
       ],
       "shape": {
        "columns": 8,
        "rows": 198
       }
      },
      "text/html": [
       "<div>\n",
       "<style scoped>\n",
       "    .dataframe tbody tr th:only-of-type {\n",
       "        vertical-align: middle;\n",
       "    }\n",
       "\n",
       "    .dataframe tbody tr th {\n",
       "        vertical-align: top;\n",
       "    }\n",
       "\n",
       "    .dataframe thead th {\n",
       "        text-align: right;\n",
       "    }\n",
       "</style>\n",
       "<table border=\"1\" class=\"dataframe\">\n",
       "  <thead>\n",
       "    <tr style=\"text-align: right;\">\n",
       "      <th></th>\n",
       "      <th>Journal title</th>\n",
       "      <th>Journal ISSN (print version)</th>\n",
       "      <th>Journal EISSN (online version)</th>\n",
       "      <th>Languages in which the journal accepts manuscripts</th>\n",
       "      <th>Publisher</th>\n",
       "      <th>DOAJ Seal</th>\n",
       "      <th>Journal license</th>\n",
       "      <th>APC</th>\n",
       "    </tr>\n",
       "  </thead>\n",
       "  <tbody>\n",
       "    <tr>\n",
       "      <th>0</th>\n",
       "      <td>Prolíngua</td>\n",
       "      <td>NaN</td>\n",
       "      <td>1983-9979</td>\n",
       "      <td>Portuguese</td>\n",
       "      <td>Universidade Federal da Paraíba</td>\n",
       "      <td>No</td>\n",
       "      <td>CC BY-NC-SA</td>\n",
       "      <td>No</td>\n",
       "    </tr>\n",
       "    <tr>\n",
       "      <th>1</th>\n",
       "      <td>Проблеми Законності</td>\n",
       "      <td>2224-9281</td>\n",
       "      <td>2414-990X</td>\n",
       "      <td>Ukrainian, Russian, English</td>\n",
       "      <td>Yaroslav Mudryi National Law University</td>\n",
       "      <td>No</td>\n",
       "      <td>CC BY</td>\n",
       "      <td>Yes</td>\n",
       "    </tr>\n",
       "    <tr>\n",
       "      <th>2</th>\n",
       "      <td>Enlightening Tourism: A Pathmaking Journal</td>\n",
       "      <td>NaN</td>\n",
       "      <td>2174-548X</td>\n",
       "      <td>English</td>\n",
       "      <td>University of Huelva</td>\n",
       "      <td>No</td>\n",
       "      <td>CC BY-NC</td>\n",
       "      <td>No</td>\n",
       "    </tr>\n",
       "    <tr>\n",
       "      <th>3</th>\n",
       "      <td>Scientific Journals of the Maritime University...</td>\n",
       "      <td>1733-8670</td>\n",
       "      <td>2392-0378</td>\n",
       "      <td>English</td>\n",
       "      <td>MUS</td>\n",
       "      <td>No</td>\n",
       "      <td>CC BY</td>\n",
       "      <td>Yes</td>\n",
       "    </tr>\n",
       "    <tr>\n",
       "      <th>4</th>\n",
       "      <td>Fronteiras: Journal of Social, Technological a...</td>\n",
       "      <td>NaN</td>\n",
       "      <td>2238-8869</td>\n",
       "      <td>Portuguese</td>\n",
       "      <td>Centro Universitário de Anápolis</td>\n",
       "      <td>No</td>\n",
       "      <td>CC BY-NC</td>\n",
       "      <td>No</td>\n",
       "    </tr>\n",
       "    <tr>\n",
       "      <th>...</th>\n",
       "      <td>...</td>\n",
       "      <td>...</td>\n",
       "      <td>...</td>\n",
       "      <td>...</td>\n",
       "      <td>...</td>\n",
       "      <td>...</td>\n",
       "      <td>...</td>\n",
       "      <td>...</td>\n",
       "    </tr>\n",
       "    <tr>\n",
       "      <th>193</th>\n",
       "      <td>Revista Analisando em Ciência da Informação</td>\n",
       "      <td>NaN</td>\n",
       "      <td>2317-9708</td>\n",
       "      <td>Portuguese</td>\n",
       "      <td>Universidade Estadual da Paraíba</td>\n",
       "      <td>No</td>\n",
       "      <td>CC BY-NC</td>\n",
       "      <td>No</td>\n",
       "    </tr>\n",
       "    <tr>\n",
       "      <th>194</th>\n",
       "      <td>Rainbow: Journal of Literature, Linguistics an...</td>\n",
       "      <td>2252-6323</td>\n",
       "      <td>2721-4540</td>\n",
       "      <td>English</td>\n",
       "      <td>Universitas Negeri Semarang</td>\n",
       "      <td>No</td>\n",
       "      <td>CC BY</td>\n",
       "      <td>No</td>\n",
       "    </tr>\n",
       "    <tr>\n",
       "      <th>195</th>\n",
       "      <td>Jurnal Bidang Pendidikan Dasar</td>\n",
       "      <td>2549-0117</td>\n",
       "      <td>2549-0125</td>\n",
       "      <td>Indonesian</td>\n",
       "      <td>Universitas Kanjuruhan Malang</td>\n",
       "      <td>No</td>\n",
       "      <td>CC BY-SA</td>\n",
       "      <td>Yes</td>\n",
       "    </tr>\n",
       "    <tr>\n",
       "      <th>196</th>\n",
       "      <td>Science Diliman</td>\n",
       "      <td>0115-7809</td>\n",
       "      <td>2012-0818</td>\n",
       "      <td>English</td>\n",
       "      <td>University of the Philippines</td>\n",
       "      <td>No</td>\n",
       "      <td>Publisher's own license</td>\n",
       "      <td>No</td>\n",
       "    </tr>\n",
       "    <tr>\n",
       "      <th>197</th>\n",
       "      <td>PROFESORADO</td>\n",
       "      <td>1138-414X</td>\n",
       "      <td>1989-6395</td>\n",
       "      <td>Spanish</td>\n",
       "      <td>Grupo FORCE, Universidad de Granada</td>\n",
       "      <td>No</td>\n",
       "      <td>CC BY-NC-ND</td>\n",
       "      <td>No</td>\n",
       "    </tr>\n",
       "  </tbody>\n",
       "</table>\n",
       "<p>198 rows × 8 columns</p>\n",
       "</div>"
      ],
      "text/plain": [
       "                                         Journal title  \\\n",
       "0                                            Prolíngua   \n",
       "1                                  Проблеми Законності   \n",
       "2           Enlightening Tourism: A Pathmaking Journal   \n",
       "3    Scientific Journals of the Maritime University...   \n",
       "4    Fronteiras: Journal of Social, Technological a...   \n",
       "..                                                 ...   \n",
       "193        Revista Analisando em Ciência da Informação   \n",
       "194  Rainbow: Journal of Literature, Linguistics an...   \n",
       "195                     Jurnal Bidang Pendidikan Dasar   \n",
       "196                                    Science Diliman   \n",
       "197                                        PROFESORADO   \n",
       "\n",
       "    Journal ISSN (print version) Journal EISSN (online version)  \\\n",
       "0                            NaN                      1983-9979   \n",
       "1                      2224-9281                      2414-990X   \n",
       "2                            NaN                      2174-548X   \n",
       "3                      1733-8670                      2392-0378   \n",
       "4                            NaN                      2238-8869   \n",
       "..                           ...                            ...   \n",
       "193                          NaN                      2317-9708   \n",
       "194                    2252-6323                      2721-4540   \n",
       "195                    2549-0117                      2549-0125   \n",
       "196                    0115-7809                      2012-0818   \n",
       "197                    1138-414X                      1989-6395   \n",
       "\n",
       "    Languages in which the journal accepts manuscripts  \\\n",
       "0                                           Portuguese   \n",
       "1                          Ukrainian, Russian, English   \n",
       "2                                              English   \n",
       "3                                              English   \n",
       "4                                           Portuguese   \n",
       "..                                                 ...   \n",
       "193                                         Portuguese   \n",
       "194                                            English   \n",
       "195                                         Indonesian   \n",
       "196                                            English   \n",
       "197                                            Spanish   \n",
       "\n",
       "                                   Publisher DOAJ Seal  \\\n",
       "0            Universidade Federal da Paraíba        No   \n",
       "1    Yaroslav Mudryi National Law University        No   \n",
       "2                       University of Huelva        No   \n",
       "3                                        MUS        No   \n",
       "4           Centro Universitário de Anápolis        No   \n",
       "..                                       ...       ...   \n",
       "193         Universidade Estadual da Paraíba        No   \n",
       "194              Universitas Negeri Semarang        No   \n",
       "195            Universitas Kanjuruhan Malang        No   \n",
       "196            University of the Philippines        No   \n",
       "197      Grupo FORCE, Universidad de Granada        No   \n",
       "\n",
       "             Journal license  APC  \n",
       "0                CC BY-NC-SA   No  \n",
       "1                      CC BY  Yes  \n",
       "2                   CC BY-NC   No  \n",
       "3                      CC BY  Yes  \n",
       "4                   CC BY-NC   No  \n",
       "..                       ...  ...  \n",
       "193                 CC BY-NC   No  \n",
       "194                    CC BY   No  \n",
       "195                 CC BY-SA  Yes  \n",
       "196  Publisher's own license   No  \n",
       "197              CC BY-NC-ND   No  \n",
       "\n",
       "[198 rows x 8 columns]"
      ]
     },
     "execution_count": 21,
     "metadata": {},
     "output_type": "execute_result"
    }
   ],
   "source": [
    "import pandas as pd\n",
    "\n",
    "df = pd.read_csv('test_data/doaj.csv')\n"
   ]
  },
  {
   "cell_type": "code",
   "execution_count": 12,
   "id": "4e8ad023",
   "metadata": {},
   "outputs": [
    {
     "name": "stdout",
     "output_type": "stream",
     "text": [
      "L'oggetto JSON caricato non è un dizionario.\n"
     ]
    }
   ],
   "source": [
    "import json\n",
    "\n",
    "path = 'test_data/scimago.json'\n",
    "with open(path, 'r') as f:\n",
    "    file = json.load(f)\n",
    "\n",
    "if isinstance(file, dict):\n",
    "    for key, value in file.items():\n",
    "        print(f\"Chiave: {key}, Valore: {value}\")\n",
    "        break\n",
    "else:\n",
    "    print(\"L'oggetto JSON caricato non è un dizionario.\")"
   ]
  }
 ],
 "metadata": {
  "kernelspec": {
   "display_name": "edo_venv",
   "language": "python",
   "name": "python3"
  },
  "language_info": {
   "codemirror_mode": {
    "name": "ipython",
    "version": 3
   },
   "file_extension": ".py",
   "mimetype": "text/x-python",
   "name": "python",
   "nbconvert_exporter": "python",
   "pygments_lexer": "ipython3",
   "version": "3.11.9"
  }
 },
 "nbformat": 4,
 "nbformat_minor": 5
}
