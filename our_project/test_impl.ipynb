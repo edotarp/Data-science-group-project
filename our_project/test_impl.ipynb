{
 "cells": [
  {
   "cell_type": "markdown",
   "id": "0b435015",
   "metadata": {},
   "source": [
    "#### Import classes"
   ]
  },
  {
   "cell_type": "code",
   "execution_count": 1,
   "id": "8503f142",
   "metadata": {},
   "outputs": [
    {
     "data": {
      "text/plain": [
       "True"
      ]
     },
     "execution_count": 1,
     "metadata": {},
     "output_type": "execute_result"
    }
   ],
   "source": [
    "from impl import JournalUploadHandler, CategoryUploadHandler, JournalQueryHandler, CategoryQueryHandler, BasicQueryEngine\n",
    "path = 'http://192.168.0.205:9999/blazegraph'\n",
    "grp_endpoint = f'{path}/sparql'\n",
    "# java -server -Xmx1g -jar blazegraph.jar\n",
    "\n",
    "# set Journal methods\n",
    "\n",
    "jou = JournalUploadHandler()\n",
    "jou.setDbPathOrUrl(grp_endpoint)\n",
    "jou.pushDataToDb('test_data/doaj.csv')\n",
    "\n",
    "jou_qh = JournalQueryHandler()\n",
    "jou_qh.setDbPathOrUrl(grp_endpoint)\n",
    "\n",
    "# set Category methods\n",
    "\n",
    "real_path = 'relational.db'\n",
    "cat = CategoryUploadHandler()\n",
    "cat.setDbPathOrUrl(real_path)\n",
    "cat.pushDataToDb('test_data/scimago.json')\n",
    "\n",
    "cat_qh = CategoryQueryHandler()\n",
    "cat_qh.setDbPathOrUrl(real_path)\n",
    "\n",
    "# set Engine methods\n",
    "\n",
    "que = BasicQueryEngine()\n",
    "que.addJournalHandler(jou_qh)"
   ]
  },
  {
   "cell_type": "markdown",
   "id": "979bde7d",
   "metadata": {},
   "source": [
    "#### Check JournalQueryHandler"
   ]
  },
  {
   "cell_type": "code",
   "execution_count": 3,
   "id": "1552037b",
   "metadata": {},
   "outputs": [
    {
     "name": "stdout",
     "output_type": "stream",
     "text": [
      "SPARQL Error: <urlopen error [WinError 10061] No connection could be made because the target machine actively refused it>\n"
     ]
    },
    {
     "data": {
      "application/vnd.microsoft.datawrangler.viewer.v0+json": {
       "columns": [
        {
         "name": "index",
         "rawType": "int64",
         "type": "integer"
        }
       ],
       "conversionMethod": "pd.DataFrame",
       "ref": "f09301b7-2591-4483-ba30-fd71ae92af83",
       "rows": [],
       "shape": {
        "columns": 0,
        "rows": 0
       }
      },
      "text/html": [
       "<div>\n",
       "<style scoped>\n",
       "    .dataframe tbody tr th:only-of-type {\n",
       "        vertical-align: middle;\n",
       "    }\n",
       "\n",
       "    .dataframe tbody tr th {\n",
       "        vertical-align: top;\n",
       "    }\n",
       "\n",
       "    .dataframe thead th {\n",
       "        text-align: right;\n",
       "    }\n",
       "</style>\n",
       "<table border=\"1\" class=\"dataframe\">\n",
       "  <thead>\n",
       "    <tr style=\"text-align: right;\">\n",
       "      <th></th>\n",
       "    </tr>\n",
       "  </thead>\n",
       "  <tbody>\n",
       "  </tbody>\n",
       "</table>\n",
       "</div>"
      ],
      "text/plain": [
       "Empty DataFrame\n",
       "Columns: []\n",
       "Index: []"
      ]
     },
     "execution_count": 3,
     "metadata": {},
     "output_type": "execute_result"
    }
   ],
   "source": [
    "# result_q1 = jou_qh.getJournalsWithTitle('مجلة كلي')\n",
    "# result_q1 = jou_qh.getAllJournals()\n",
    "# result_q1 = jou_qh.getJournalsWithDOAJSeal()\n",
    "result_q1 = jou_qh.getById('2532-2615') # 2532-2615 2385-2615\n",
    "\n",
    "result_q1"
   ]
  },
  {
   "cell_type": "markdown",
   "id": "d0237364",
   "metadata": {},
   "source": [
    "#### Check CategoryQueryHandler"
   ]
  },
  {
   "cell_type": "code",
   "execution_count": 2,
   "id": "b71cf310",
   "metadata": {},
   "outputs": [
    {
     "ename": "DatabaseError",
     "evalue": "Execution failed on sql '\n                    SELECT DISTINCT c.id, a.area\n                    FROM categories c \n                ': no such column: a.area",
     "output_type": "error",
     "traceback": [
      "\u001b[1;31m---------------------------------------------------------------------------\u001b[0m",
      "\u001b[1;31mOperationalError\u001b[0m                          Traceback (most recent call last)",
      "File \u001b[1;32mc:\\Users\\edoar\\anaconda3\\envs\\edo_venv\\Lib\\site-packages\\pandas\\io\\sql.py:2674\u001b[0m, in \u001b[0;36mSQLiteDatabase.execute\u001b[1;34m(self, sql, params)\u001b[0m\n\u001b[0;32m   2673\u001b[0m \u001b[38;5;28;01mtry\u001b[39;00m:\n\u001b[1;32m-> 2674\u001b[0m     \u001b[43mcur\u001b[49m\u001b[38;5;241;43m.\u001b[39;49m\u001b[43mexecute\u001b[49m\u001b[43m(\u001b[49m\u001b[43msql\u001b[49m\u001b[43m,\u001b[49m\u001b[43m \u001b[49m\u001b[38;5;241;43m*\u001b[39;49m\u001b[43margs\u001b[49m\u001b[43m)\u001b[49m\n\u001b[0;32m   2675\u001b[0m     \u001b[38;5;28;01mreturn\u001b[39;00m cur\n",
      "\u001b[1;31mOperationalError\u001b[0m: no such column: a.area",
      "\nThe above exception was the direct cause of the following exception:\n",
      "\u001b[1;31mDatabaseError\u001b[0m                             Traceback (most recent call last)",
      "Cell \u001b[1;32mIn[2], line 1\u001b[0m\n\u001b[1;32m----> 1\u001b[0m result_q1 \u001b[38;5;241m=\u001b[39m \u001b[43mcat_qh\u001b[49m\u001b[38;5;241;43m.\u001b[39;49m\u001b[43mgetCategoriesAssignedToAreas\u001b[49m\u001b[43m(\u001b[49m\u001b[38;5;28;43mset\u001b[39;49m\u001b[43m(\u001b[49m\u001b[43m)\u001b[49m\u001b[43m)\u001b[49m\n\u001b[0;32m      3\u001b[0m \u001b[38;5;66;03m# a = \"Q1\"\u001b[39;00m\n\u001b[0;32m      4\u001b[0m result_q1\n",
      "File \u001b[1;32mc:\\Users\\edoar\\Documents\\GitHub\\Data-science-group-project\\our_project\\impl.py:397\u001b[0m, in \u001b[0;36mCategoryQueryHandler.getCategoriesAssignedToAreas\u001b[1;34m(self, areas)\u001b[0m\n\u001b[0;32m    392\u001b[0m \u001b[38;5;28;01mif\u001b[39;00m \u001b[38;5;129;01mnot\u001b[39;00m areas:\n\u001b[0;32m    393\u001b[0m     query \u001b[38;5;241m=\u001b[39m \u001b[38;5;124mf\u001b[39m\u001b[38;5;124m\"\"\"\u001b[39m\n\u001b[0;32m    394\u001b[0m \u001b[38;5;124m        SELECT DISTINCT c.id, a.area\u001b[39m\n\u001b[0;32m    395\u001b[0m \u001b[38;5;124m        FROM categories c \u001b[39m\n\u001b[0;32m    396\u001b[0m \u001b[38;5;124m    \u001b[39m\u001b[38;5;124m\"\"\"\u001b[39m\n\u001b[1;32m--> 397\u001b[0m     df \u001b[38;5;241m=\u001b[39m \u001b[43mpd\u001b[49m\u001b[38;5;241;43m.\u001b[39;49m\u001b[43mread_sql_query\u001b[49m\u001b[43m(\u001b[49m\u001b[43mquery\u001b[49m\u001b[43m,\u001b[49m\u001b[43m \u001b[49m\u001b[43mcon\u001b[49m\u001b[43m)\u001b[49m\n\u001b[0;32m    398\u001b[0m \u001b[38;5;28;01melse\u001b[39;00m:\n\u001b[0;32m    399\u001b[0m     placeholders \u001b[38;5;241m=\u001b[39m \u001b[38;5;124m'\u001b[39m\u001b[38;5;124m, \u001b[39m\u001b[38;5;124m'\u001b[39m\u001b[38;5;241m.\u001b[39mjoin([\u001b[38;5;124m'\u001b[39m\u001b[38;5;124m?\u001b[39m\u001b[38;5;124m'\u001b[39m] \u001b[38;5;241m*\u001b[39m \u001b[38;5;28mlen\u001b[39m(areas))\n",
      "File \u001b[1;32mc:\\Users\\edoar\\anaconda3\\envs\\edo_venv\\Lib\\site-packages\\pandas\\io\\sql.py:526\u001b[0m, in \u001b[0;36mread_sql_query\u001b[1;34m(sql, con, index_col, coerce_float, params, parse_dates, chunksize, dtype, dtype_backend)\u001b[0m\n\u001b[0;32m    523\u001b[0m \u001b[38;5;28;01massert\u001b[39;00m dtype_backend \u001b[38;5;129;01mis\u001b[39;00m \u001b[38;5;129;01mnot\u001b[39;00m lib\u001b[38;5;241m.\u001b[39mno_default\n\u001b[0;32m    525\u001b[0m \u001b[38;5;28;01mwith\u001b[39;00m pandasSQL_builder(con) \u001b[38;5;28;01mas\u001b[39;00m pandas_sql:\n\u001b[1;32m--> 526\u001b[0m     \u001b[38;5;28;01mreturn\u001b[39;00m \u001b[43mpandas_sql\u001b[49m\u001b[38;5;241;43m.\u001b[39;49m\u001b[43mread_query\u001b[49m\u001b[43m(\u001b[49m\n\u001b[0;32m    527\u001b[0m \u001b[43m        \u001b[49m\u001b[43msql\u001b[49m\u001b[43m,\u001b[49m\n\u001b[0;32m    528\u001b[0m \u001b[43m        \u001b[49m\u001b[43mindex_col\u001b[49m\u001b[38;5;241;43m=\u001b[39;49m\u001b[43mindex_col\u001b[49m\u001b[43m,\u001b[49m\n\u001b[0;32m    529\u001b[0m \u001b[43m        \u001b[49m\u001b[43mparams\u001b[49m\u001b[38;5;241;43m=\u001b[39;49m\u001b[43mparams\u001b[49m\u001b[43m,\u001b[49m\n\u001b[0;32m    530\u001b[0m \u001b[43m        \u001b[49m\u001b[43mcoerce_float\u001b[49m\u001b[38;5;241;43m=\u001b[39;49m\u001b[43mcoerce_float\u001b[49m\u001b[43m,\u001b[49m\n\u001b[0;32m    531\u001b[0m \u001b[43m        \u001b[49m\u001b[43mparse_dates\u001b[49m\u001b[38;5;241;43m=\u001b[39;49m\u001b[43mparse_dates\u001b[49m\u001b[43m,\u001b[49m\n\u001b[0;32m    532\u001b[0m \u001b[43m        \u001b[49m\u001b[43mchunksize\u001b[49m\u001b[38;5;241;43m=\u001b[39;49m\u001b[43mchunksize\u001b[49m\u001b[43m,\u001b[49m\n\u001b[0;32m    533\u001b[0m \u001b[43m        \u001b[49m\u001b[43mdtype\u001b[49m\u001b[38;5;241;43m=\u001b[39;49m\u001b[43mdtype\u001b[49m\u001b[43m,\u001b[49m\n\u001b[0;32m    534\u001b[0m \u001b[43m        \u001b[49m\u001b[43mdtype_backend\u001b[49m\u001b[38;5;241;43m=\u001b[39;49m\u001b[43mdtype_backend\u001b[49m\u001b[43m,\u001b[49m\n\u001b[0;32m    535\u001b[0m \u001b[43m    \u001b[49m\u001b[43m)\u001b[49m\n",
      "File \u001b[1;32mc:\\Users\\edoar\\anaconda3\\envs\\edo_venv\\Lib\\site-packages\\pandas\\io\\sql.py:2738\u001b[0m, in \u001b[0;36mSQLiteDatabase.read_query\u001b[1;34m(self, sql, index_col, coerce_float, parse_dates, params, chunksize, dtype, dtype_backend)\u001b[0m\n\u001b[0;32m   2727\u001b[0m \u001b[38;5;28;01mdef\u001b[39;00m \u001b[38;5;21mread_query\u001b[39m(\n\u001b[0;32m   2728\u001b[0m     \u001b[38;5;28mself\u001b[39m,\n\u001b[0;32m   2729\u001b[0m     sql,\n\u001b[1;32m   (...)\u001b[0m\n\u001b[0;32m   2736\u001b[0m     dtype_backend: DtypeBackend \u001b[38;5;241m|\u001b[39m Literal[\u001b[38;5;124m\"\u001b[39m\u001b[38;5;124mnumpy\u001b[39m\u001b[38;5;124m\"\u001b[39m] \u001b[38;5;241m=\u001b[39m \u001b[38;5;124m\"\u001b[39m\u001b[38;5;124mnumpy\u001b[39m\u001b[38;5;124m\"\u001b[39m,\n\u001b[0;32m   2737\u001b[0m ) \u001b[38;5;241m-\u001b[39m\u001b[38;5;241m>\u001b[39m DataFrame \u001b[38;5;241m|\u001b[39m Iterator[DataFrame]:\n\u001b[1;32m-> 2738\u001b[0m     cursor \u001b[38;5;241m=\u001b[39m \u001b[38;5;28;43mself\u001b[39;49m\u001b[38;5;241;43m.\u001b[39;49m\u001b[43mexecute\u001b[49m\u001b[43m(\u001b[49m\u001b[43msql\u001b[49m\u001b[43m,\u001b[49m\u001b[43m \u001b[49m\u001b[43mparams\u001b[49m\u001b[43m)\u001b[49m\n\u001b[0;32m   2739\u001b[0m     columns \u001b[38;5;241m=\u001b[39m [col_desc[\u001b[38;5;241m0\u001b[39m] \u001b[38;5;28;01mfor\u001b[39;00m col_desc \u001b[38;5;129;01min\u001b[39;00m cursor\u001b[38;5;241m.\u001b[39mdescription]\n\u001b[0;32m   2741\u001b[0m     \u001b[38;5;28;01mif\u001b[39;00m chunksize \u001b[38;5;129;01mis\u001b[39;00m \u001b[38;5;129;01mnot\u001b[39;00m \u001b[38;5;28;01mNone\u001b[39;00m:\n",
      "File \u001b[1;32mc:\\Users\\edoar\\anaconda3\\envs\\edo_venv\\Lib\\site-packages\\pandas\\io\\sql.py:2686\u001b[0m, in \u001b[0;36mSQLiteDatabase.execute\u001b[1;34m(self, sql, params)\u001b[0m\n\u001b[0;32m   2683\u001b[0m     \u001b[38;5;28;01mraise\u001b[39;00m ex \u001b[38;5;28;01mfrom\u001b[39;00m \u001b[38;5;21;01minner_exc\u001b[39;00m\n\u001b[0;32m   2685\u001b[0m ex \u001b[38;5;241m=\u001b[39m DatabaseError(\u001b[38;5;124mf\u001b[39m\u001b[38;5;124m\"\u001b[39m\u001b[38;5;124mExecution failed on sql \u001b[39m\u001b[38;5;124m'\u001b[39m\u001b[38;5;132;01m{\u001b[39;00msql\u001b[38;5;132;01m}\u001b[39;00m\u001b[38;5;124m'\u001b[39m\u001b[38;5;124m: \u001b[39m\u001b[38;5;132;01m{\u001b[39;00mexc\u001b[38;5;132;01m}\u001b[39;00m\u001b[38;5;124m\"\u001b[39m)\n\u001b[1;32m-> 2686\u001b[0m \u001b[38;5;28;01mraise\u001b[39;00m ex \u001b[38;5;28;01mfrom\u001b[39;00m \u001b[38;5;21;01mexc\u001b[39;00m\n",
      "\u001b[1;31mDatabaseError\u001b[0m: Execution failed on sql '\n                    SELECT DISTINCT c.id, a.area\n                    FROM categories c \n                ': no such column: a.area"
     ]
    }
   ],
   "source": [
    "result_q1 = cat_qh.getCategoriesAssignedToAreas(set())\n",
    "\n",
    "# a = \"Q1\"\n",
    "result_q1\n",
    "# print(', '.join(['?'] * len(a)))"
   ]
  },
  {
   "cell_type": "markdown",
   "id": "37f63699",
   "metadata": {},
   "source": [
    "### Check QueryEngine"
   ]
  },
  {
   "cell_type": "code",
   "execution_count": 7,
   "id": "8ae71793",
   "metadata": {},
   "outputs": [
    {
     "data": {
      "text/plain": [
       "([<impl.Journal at 0x116d2eba550>,\n",
       "  <impl.Journal at 0x116d1433d90>,\n",
       "  <impl.Journal at 0x116d2f91810>,\n",
       "  <impl.Journal at 0x116d02cd950>,\n",
       "  <impl.Journal at 0x116d29f3110>,\n",
       "  <impl.Journal at 0x116d29c2210>,\n",
       "  <impl.Journal at 0x116d2c67c10>,\n",
       "  <impl.Journal at 0x116d10b6290>,\n",
       "  <impl.Journal at 0x116d2c64350>,\n",
       "  <impl.Journal at 0x116d0596a90>,\n",
       "  <impl.Journal at 0x116d2c64590>,\n",
       "  <impl.Journal at 0x116d2a09bd0>,\n",
       "  <impl.Journal at 0x116d2a09010>,\n",
       "  <impl.Journal at 0x116d2a0be90>,\n",
       "  <impl.Journal at 0x116d2a08690>,\n",
       "  <impl.Journal at 0x116d2a08f10>,\n",
       "  <impl.Journal at 0x116d2a09310>,\n",
       "  <impl.Journal at 0x116d2a092d0>,\n",
       "  <impl.Journal at 0x116d2a0bb90>,\n",
       "  <impl.Journal at 0x116d2a08c10>,\n",
       "  <impl.Journal at 0x116d2a0b310>,\n",
       "  <impl.Journal at 0x116d2a0a0d0>,\n",
       "  <impl.Journal at 0x116d2a08950>,\n",
       "  <impl.Journal at 0x116d2a0b150>,\n",
       "  <impl.Journal at 0x116d2a093d0>,\n",
       "  <impl.Journal at 0x116d2a0bc90>,\n",
       "  <impl.Journal at 0x116d2a09850>,\n",
       "  <impl.Journal at 0x116d2a08d50>,\n",
       "  <impl.Journal at 0x116d2a08a90>,\n",
       "  <impl.Journal at 0x116d2a083d0>,\n",
       "  <impl.Journal at 0x116d2a0ae90>,\n",
       "  <impl.Journal at 0x116d2a0ba90>,\n",
       "  <impl.Journal at 0x116d2a0a450>,\n",
       "  <impl.Journal at 0x116d2a0a850>,\n",
       "  <impl.Journal at 0x116d2a084d0>,\n",
       "  <impl.Journal at 0x116d2a0a510>,\n",
       "  <impl.Journal at 0x116d2a0a990>,\n",
       "  <impl.Journal at 0x116d2a0a050>,\n",
       "  <impl.Journal at 0x116d2a087d0>,\n",
       "  <impl.Journal at 0x116d2a098d0>,\n",
       "  <impl.Journal at 0x116d2a0b450>,\n",
       "  <impl.Journal at 0x116d2a08790>,\n",
       "  <impl.Journal at 0x116d2a0af90>,\n",
       "  <impl.Journal at 0x116d2a0b2d0>,\n",
       "  <impl.Journal at 0x116d2a08cd0>,\n",
       "  <impl.Journal at 0x116d2a0a090>,\n",
       "  <impl.Journal at 0x116d2a0a410>,\n",
       "  <impl.Journal at 0x116d2a08810>,\n",
       "  <impl.Journal at 0x116d2a0ba50>,\n",
       "  <impl.Journal at 0x116d2a09750>,\n",
       "  <impl.Journal at 0x116d2a0b110>,\n",
       "  <impl.Journal at 0x116d2a0b910>,\n",
       "  <impl.Journal at 0x116d2a0b8d0>,\n",
       "  <impl.Journal at 0x116d2a088d0>,\n",
       "  <impl.Journal at 0x116d2a0abd0>,\n",
       "  <impl.Journal at 0x116d2a08910>,\n",
       "  <impl.Journal at 0x116d2a0b710>,\n",
       "  <impl.Journal at 0x116d2a0a8d0>,\n",
       "  <impl.Journal at 0x116d2a0a490>,\n",
       "  <impl.Journal at 0x116d2a09f50>,\n",
       "  <impl.Journal at 0x116d2a0ac90>,\n",
       "  <impl.Journal at 0x116d2a0b9d0>,\n",
       "  <impl.Journal at 0x116d2a0b790>,\n",
       "  <impl.Journal at 0x116d2a09450>,\n",
       "  <impl.Journal at 0x116d2a0ab10>,\n",
       "  <impl.Journal at 0x116d2a0ad10>,\n",
       "  <impl.Journal at 0x116d2a0b090>,\n",
       "  <impl.Journal at 0x116d2a08fd0>,\n",
       "  <impl.Journal at 0x116d2a0a550>,\n",
       "  <impl.Journal at 0x116d2a08650>,\n",
       "  <impl.Journal at 0x116d2a085d0>,\n",
       "  <impl.Journal at 0x116d2a09cd0>,\n",
       "  <impl.Journal at 0x116d2a09090>,\n",
       "  <impl.Journal at 0x116d2a08610>,\n",
       "  <impl.Journal at 0x116d2a0a250>,\n",
       "  <impl.Journal at 0x116d2a0bad0>,\n",
       "  <impl.Journal at 0x116d2a09210>,\n",
       "  <impl.Journal at 0x116d2a0a010>,\n",
       "  <impl.Journal at 0x116d2a0bcd0>,\n",
       "  <impl.Journal at 0x116d2a0a910>,\n",
       "  <impl.Journal at 0x116d2a08290>,\n",
       "  <impl.Journal at 0x116d2c79110>,\n",
       "  <impl.Journal at 0x116d2c7add0>,\n",
       "  <impl.Journal at 0x116d2c7a090>,\n",
       "  <impl.Journal at 0x116d2c7b910>,\n",
       "  <impl.Journal at 0x116d2c7a210>,\n",
       "  <impl.Journal at 0x116d2c7abd0>,\n",
       "  <impl.Journal at 0x116d2c7ba10>,\n",
       "  <impl.Journal at 0x116d2c79bd0>,\n",
       "  <impl.Journal at 0x116d2c7a510>,\n",
       "  <impl.Journal at 0x116d2c7a950>,\n",
       "  <impl.Journal at 0x116d2c78a10>,\n",
       "  <impl.Journal at 0x116d2c7bf50>,\n",
       "  <impl.Journal at 0x116d2c78e50>,\n",
       "  <impl.Journal at 0x116d2c78cd0>,\n",
       "  <impl.Journal at 0x116d2c788d0>,\n",
       "  <impl.Journal at 0x116d2c7ba50>,\n",
       "  <impl.Journal at 0x116d2c79d50>,\n",
       "  <impl.Journal at 0x116d2c78e10>,\n",
       "  <impl.Journal at 0x116d2c79cd0>,\n",
       "  <impl.Journal at 0x116d2c7a8d0>,\n",
       "  <impl.Journal at 0x116d2c79e10>,\n",
       "  <impl.Journal at 0x116d2c7acd0>,\n",
       "  <impl.Journal at 0x116d2c78610>,\n",
       "  <impl.Journal at 0x116d2c7b2d0>,\n",
       "  <impl.Journal at 0x116d2c78690>,\n",
       "  <impl.Journal at 0x116d2c7ad90>,\n",
       "  <impl.Journal at 0x116d2c7afd0>,\n",
       "  <impl.Journal at 0x116d2c79710>,\n",
       "  <impl.Journal at 0x116d2c7ba90>,\n",
       "  <impl.Journal at 0x116d2c785d0>,\n",
       "  <impl.Journal at 0x116d2c78810>,\n",
       "  <impl.Journal at 0x116d2c79610>,\n",
       "  <impl.Journal at 0x116d2c79850>,\n",
       "  <impl.Journal at 0x116d2c78190>,\n",
       "  <impl.Journal at 0x116d2c7a050>,\n",
       "  <impl.Journal at 0x116d2c7b090>,\n",
       "  <impl.Journal at 0x116d2c7bf90>,\n",
       "  <impl.Journal at 0x116d2c79d90>,\n",
       "  <impl.Journal at 0x116d2c7bf10>,\n",
       "  <impl.Journal at 0x116d2c79390>,\n",
       "  <impl.Journal at 0x116d2c78350>,\n",
       "  <impl.Journal at 0x116d2c793d0>,\n",
       "  <impl.Journal at 0x116d2c7b7d0>,\n",
       "  <impl.Journal at 0x116d2c7aa10>,\n",
       "  <impl.Journal at 0x116d2c79ed0>,\n",
       "  <impl.Journal at 0x116d2c79b10>,\n",
       "  <impl.Journal at 0x116d2c79790>,\n",
       "  <impl.Journal at 0x116d2c7a710>,\n",
       "  <impl.Journal at 0x116d2c7a990>,\n",
       "  <impl.Journal at 0x116d2c7b4d0>,\n",
       "  <impl.Journal at 0x116d2c7b850>,\n",
       "  <impl.Journal at 0x116d2c7a850>,\n",
       "  <impl.Journal at 0x116d2c7a490>,\n",
       "  <impl.Journal at 0x116d2c79310>,\n",
       "  <impl.Journal at 0x116d2c7a590>,\n",
       "  <impl.Journal at 0x116d2c79490>,\n",
       "  <impl.Journal at 0x116d2c7a3d0>,\n",
       "  <impl.Journal at 0x116d2c79150>,\n",
       "  <impl.Journal at 0x116d2c78bd0>,\n",
       "  <impl.Journal at 0x116d2c7a610>,\n",
       "  <impl.Journal at 0x116d2c79210>,\n",
       "  <impl.Journal at 0x116d2c7b150>,\n",
       "  <impl.Journal at 0x116d2c78890>,\n",
       "  <impl.Journal at 0x116d2c78850>,\n",
       "  <impl.Journal at 0x116d2c787d0>,\n",
       "  <impl.Journal at 0x116d2c79c90>,\n",
       "  <impl.Journal at 0x116d2c7b110>,\n",
       "  <impl.Journal at 0x116d2c79050>,\n",
       "  <impl.Journal at 0x116d2c78650>,\n",
       "  <impl.Journal at 0x116d2a1dd10>,\n",
       "  <impl.Journal at 0x116d2a1c410>,\n",
       "  <impl.Journal at 0x116d2a1d910>,\n",
       "  <impl.Journal at 0x116d2a1c250>,\n",
       "  <impl.Journal at 0x116d2a1c690>,\n",
       "  <impl.Journal at 0x116d2a1fa10>,\n",
       "  <impl.Journal at 0x116d2a1c450>,\n",
       "  <impl.Journal at 0x116d2a1d210>,\n",
       "  <impl.Journal at 0x116d2a1e050>,\n",
       "  <impl.Journal at 0x116d2a1e8d0>,\n",
       "  <impl.Journal at 0x116d2a1e550>,\n",
       "  <impl.Journal at 0x116d2a1d750>,\n",
       "  <impl.Journal at 0x116d2a0c3d0>,\n",
       "  <impl.Journal at 0x116d2a0d3d0>,\n",
       "  <impl.Journal at 0x116d2a0d590>,\n",
       "  <impl.Journal at 0x116d2a0d290>,\n",
       "  <impl.Journal at 0x116d2a0c310>,\n",
       "  <impl.Journal at 0x116d2a0d4d0>,\n",
       "  <impl.Journal at 0x116d2a0c390>,\n",
       "  <impl.Journal at 0x116d2a0c890>,\n",
       "  <impl.Journal at 0x116d2a0e410>,\n",
       "  <impl.Journal at 0x116d2a0c7d0>,\n",
       "  <impl.Journal at 0x116d2a0c490>,\n",
       "  <impl.Journal at 0x116d2a0c750>,\n",
       "  <impl.Journal at 0x116d2a0ee10>,\n",
       "  <impl.Journal at 0x116d2a0dd10>,\n",
       "  <impl.Journal at 0x116d2a0d150>,\n",
       "  <impl.Journal at 0x116d2a0ce10>,\n",
       "  <impl.Journal at 0x116d2a0e5d0>,\n",
       "  <impl.Journal at 0x116d2a0f5d0>,\n",
       "  <impl.Journal at 0x116d2a0d510>,\n",
       "  <impl.Journal at 0x116d2a0e710>,\n",
       "  <impl.Journal at 0x116d2a0d750>,\n",
       "  <impl.Journal at 0x116d2a0c5d0>,\n",
       "  <impl.Journal at 0x116d2a0e010>,\n",
       "  <impl.Journal at 0x116d2a0ed50>,\n",
       "  <impl.Journal at 0x116d2a0e690>,\n",
       "  <impl.Journal at 0x116d2a0d390>,\n",
       "  <impl.Journal at 0x116d2a0f2d0>,\n",
       "  <impl.Journal at 0x116d2a0e110>,\n",
       "  <impl.Journal at 0x116d2a0d910>,\n",
       "  <impl.Journal at 0x116d2a0ff10>,\n",
       "  <impl.Journal at 0x116d2a0c290>,\n",
       "  <impl.Journal at 0x116d2a0c8d0>,\n",
       "  <impl.Journal at 0x116d2a0cad0>,\n",
       "  <impl.Journal at 0x116d2a0c690>,\n",
       "  <impl.Journal at 0x116d2a0c590>,\n",
       "  <impl.Journal at 0x116d2a0c450>],\n",
       " 198)"
      ]
     },
     "execution_count": 7,
     "metadata": {},
     "output_type": "execute_result"
    }
   ],
   "source": [
    "# result_q1 = que.getJournalsWithTitle('مجلة كلي')\n",
    "result_q1 = que.getAllJournals()\n",
    "# reslt_q1 = que.getJournalsWithDOAJSeal()\n",
    "result_q1"
   ]
  },
  {
   "cell_type": "markdown",
   "id": "7c3f639a",
   "metadata": {},
   "source": [
    "#### edo stuff"
   ]
  },
  {
   "cell_type": "code",
   "execution_count": null,
   "id": "d99e4829",
   "metadata": {},
   "outputs": [],
   "source": [
    "import os\n",
    "import json\n",
    "import numpy as np\n",
    "import pandas as pd\n",
    "from sqlite3 import connect\n",
    "import SPARQLWrapper\n",
    "from rdflib import Graph, URIRef, Literal, RDF \n",
    "from rdflib.plugins.stores.sparqlstore import SPARQLUpdateStore"
   ]
  },
  {
   "cell_type": "code",
   "execution_count": null,
   "id": "0de9c208",
   "metadata": {},
   "outputs": [
    {
     "name": "stdout",
     "output_type": "stream",
     "text": [
      "0\n",
      "198\n",
      "11\n"
     ]
    }
   ],
   "source": [
    "df = pd.read_csv('test_data/doaj.csv')\n",
    "counter = 0\n",
    "# df.info()\n",
    "entrambi_nan_1 = df[['Journal ISSN (print version)', 'Journal EISSN (online version)']].isna().all(axis=1).sum()\n",
    "print(entrambi_nan_1)\n",
    "\n",
    "entrambi_non_nan = ~(df['Journal ISSN (print version)'].isna()) | ~(df['Journal EISSN (online version)'].isna())\n",
    "\n",
    "# Conta il numero di volte in cui la condizione è True\n",
    "conteggio = entrambi_non_nan.sum()\n",
    "print(conteggio)\n",
    "\n",
    "seal_count = (df['DOAJ Seal'] == 'Yes').sum()\n",
    "print(seal_count)"
   ]
  },
  {
   "cell_type": "code",
   "execution_count": null,
   "id": "9600ff4f",
   "metadata": {},
   "outputs": [],
   "source": [
    "    def getCategoriesWithQuartile(self, quartiles: set):\n",
    "        with connect(self.dbPathOrUrl) as con:\n",
    "            if not quartiles:\n",
    "                # Se l'insieme dei quartili in input è vuoto, seleziona tutte le categorie\n",
    "                query = \"\"\"\n",
    "                    SELECT DISTINCT category_internal_id, id, quartile\n",
    "                    FROM categories\n",
    "                \"\"\"\n",
    "                df = pd.read_sql_query(query, con)\n",
    "            else:\n",
    "                # Altrimenti, seleziona solo le categorie con i quartili specificati\n",
    "                placeholders = ', '.join(['?'] * len(quartiles))\n",
    "                query = f\"\"\"\n",
    "                    SELECT DISTINCT category_internal_id, id, quartile\n",
    "                    FROM categories\n",
    "                    WHERE quartile IN ({placeholders})\n",
    "                \"\"\"\n",
    "                df = pd.read_sql_query(query, con, params=list(quartiles))\n",
    "        return df\n",
    "\n",
    "    # Prendere tutte le categorie associate a una lista di aree\n",
    "    def getCategoriesAssignedToAreas(self, areas: set):\n",
    "        with connect(self.dbPathOrUrl) as con:\n",
    "            if not areas:\n",
    "                query = f\"\"\"\n",
    "                    SELECT DISTINCT c.id, a.area\n",
    "                    FROM categories c \n",
    "                \"\"\"\n",
    "                df = pd.read_sql_query(query, con)\n",
    "            else:\n",
    "                placeholders = ', '.join(['?'] * len(areas))\n",
    "                query = f\"\"\"\n",
    "                SELECT DISTINCT c.id, a.area\n",
    "                FROM categories c\n",
    "                JOIN areas a ON c.item_internal_id = a.item_internal_id\n",
    "                WHERE a.area IN ({placeholders})\n",
    "                \"\"\"\n",
    "                df = pd.read_sql_query(query, con, params=list(areas))\n",
    "        return df"
   ]
  }
 ],
 "metadata": {
  "kernelspec": {
   "display_name": "edo_venv",
   "language": "python",
   "name": "python3"
  },
  "language_info": {
   "codemirror_mode": {
    "name": "ipython",
    "version": 3
   },
   "file_extension": ".py",
   "mimetype": "text/x-python",
   "name": "python",
   "nbconvert_exporter": "python",
   "pygments_lexer": "ipython3",
   "version": "3.11.9"
  }
 },
 "nbformat": 4,
 "nbformat_minor": 5
}
