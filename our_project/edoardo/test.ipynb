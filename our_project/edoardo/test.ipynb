{
 "cells": [
  {
   "cell_type": "code",
   "execution_count": 1,
   "id": "4ed30450",
   "metadata": {},
   "outputs": [],
   "source": [
    "\"\"\"\n",
    "bisogna verificare come si definiscono i diversi [0], [0..1], [1..*], ...\n",
    "\"\"\"\n",
    "\n",
    "class IdentifiableEntity(object):\n",
    "    def __init__(self, identifiers):\n",
    "        self.id = set()\n",
    "        for identifier in identifiers:\n",
    "            self.id.append(identifier) # string[1..*]\n",
    "    \n",
    "    def getIds(self): # list[string]\n",
    "        result = []\n",
    "        for i in id:\n",
    "            result.append(i)\n",
    "        result.sort()\n",
    "        return result \n",
    "\n",
    "class Journal(IdentifiableEntity):\n",
    "    def __init__(self, id, title, languages, publisher, seal, license, apc, hasCategory, hasArea):\n",
    "        super().__init__(id)\n",
    "        self.title = title # string[1]\n",
    "        self.languages = set()\n",
    "        for language in languages:\n",
    "            self.languages.append(language) # string[1..*]\n",
    "        if publisher:\n",
    "            self.publisher = publisher # string[0..1]\n",
    "        self.seal = seal # boolean[1]\n",
    "        self.license = license # string[1]\n",
    "        self.apc = apc # boolean[1]\n",
    "        if hasCategory:\n",
    "            self.hasCategory = hasCategory # 0..*\n",
    "        if hasArea:\n",
    "            self.hasArea = hasArea # 0..*\n",
    "    \n",
    "    def getTitle(self):\n",
    "        return str(self.title) # string\n",
    "    \n",
    "    def getLanguages(self): \n",
    "        result = []\n",
    "        for language in self.languages:\n",
    "            result.append(language)\n",
    "        result.sort()\n",
    "        return result # list[string]\n",
    "\n",
    "    def getPublisher(self):\n",
    "        if self.publisher:\n",
    "            return self.publisher \n",
    "        else:\n",
    "            return None # string or None \n",
    "    \n",
    "    def hasDOAJSeal(self):\n",
    "        if self.seal == True:\n",
    "            return True\n",
    "        else:   \n",
    "            return False # boolean\n",
    "    \n",
    "    def getLicence(self):\n",
    "        return str(self.license) # string\n",
    "    \n",
    "    def hasAPC(self):\n",
    "        if self.apc == True:\n",
    "            return True\n",
    "        else:   \n",
    "            return False # boolean\n",
    "        \n",
    "    def getCategories(self):\n",
    "        result = []\n",
    "        if self.hasCategory:\n",
    "            result.append(self.hasCategory)\n",
    "            return result # list[Category]\n",
    "\n",
    "    def getAreas(self):\n",
    "        result = []\n",
    "        if self.hasArea:\n",
    "            result.append(self.hasArea)\n",
    "            return result # list[Area]\n",
    "               \n",
    "class Category(IdentifiableEntity):\n",
    "    def __init__(self, id, quartile):\n",
    "        super().__init__(id)\n",
    "        if quartile:\n",
    "            self.quartile = quartile  # string[0..1]\n",
    "        \n",
    "    def getQuartile(self):\n",
    "        if self.quartile:\n",
    "            return self.quartile  \n",
    "        else:\n",
    "            return None # string or None \n",
    "\n",
    "class Area(IdentifiableEntity):\n",
    "    def __init__(self, id):\n",
    "        super().__init__(id)\n",
    "    \n",
    "\n",
    "        \n",
    "\n",
    "\n",
    "        "
   ]
  },
  {
   "cell_type": "code",
   "execution_count": 2,
   "id": "cace38e7",
   "metadata": {},
   "outputs": [],
   "source": [
    "CSV_PATH = r'C:\\Users\\edoar\\Documents\\GitHub\\Data-science-group-project\\docs\\project\\data\\doaj.csv'\n"
   ]
  },
  {
   "cell_type": "code",
   "execution_count": 14,
   "id": "bb7a8d51",
   "metadata": {},
   "outputs": [
    {
     "data": {
      "application/vnd.microsoft.datawrangler.viewer.v0+json": {
       "columns": [
        {
         "name": "index",
         "rawType": "int64",
         "type": "integer"
        },
        {
         "name": "Journal title",
         "rawType": "object",
         "type": "string"
        },
        {
         "name": "Journal ISSN (print version)",
         "rawType": "object",
         "type": "unknown"
        },
        {
         "name": "Journal EISSN (online version)",
         "rawType": "object",
         "type": "string"
        },
        {
         "name": "Languages in which the journal accepts manuscripts",
         "rawType": "object",
         "type": "string"
        },
        {
         "name": "Publisher",
         "rawType": "object",
         "type": "string"
        },
        {
         "name": "DOAJ Seal",
         "rawType": "object",
         "type": "string"
        },
        {
         "name": "Journal license",
         "rawType": "object",
         "type": "string"
        },
        {
         "name": "APC",
         "rawType": "object",
         "type": "string"
        }
       ],
       "conversionMethod": "pd.DataFrame",
       "ref": "65934ac0-4513-4204-bb89-023ae4ef379f",
       "rows": [
        [
         "0",
         "Prolíngua",
         null,
         "1983-9979",
         "Portuguese",
         "Universidade Federal da Paraíba",
         "No",
         "CC BY-NC-SA",
         "No"
        ],
        [
         "1",
         "Проблеми Законності",
         "2224-9281",
         "2414-990X",
         "Ukrainian, Russian, English",
         "Yaroslav Mudryi National Law University",
         "No",
         "CC BY",
         "Yes"
        ],
        [
         "2",
         "Enlightening Tourism: A Pathmaking Journal",
         null,
         "2174-548X",
         "English",
         "University of Huelva",
         "No",
         "CC BY-NC",
         "No"
        ],
        [
         "3",
         "Scientific Journals of the Maritime University of Szczecin",
         "1733-8670",
         "2392-0378",
         "English",
         "MUS",
         "No",
         "CC BY",
         "Yes"
        ],
        [
         "4",
         "Fronteiras: Journal of Social, Technological and Environmental Science",
         null,
         "2238-8869",
         "Portuguese",
         "Centro Universitário de Anápolis",
         "No",
         "CC BY-NC",
         "No"
        ]
       ],
       "shape": {
        "columns": 8,
        "rows": 5
       }
      },
      "text/html": [
       "<div>\n",
       "<style scoped>\n",
       "    .dataframe tbody tr th:only-of-type {\n",
       "        vertical-align: middle;\n",
       "    }\n",
       "\n",
       "    .dataframe tbody tr th {\n",
       "        vertical-align: top;\n",
       "    }\n",
       "\n",
       "    .dataframe thead th {\n",
       "        text-align: right;\n",
       "    }\n",
       "</style>\n",
       "<table border=\"1\" class=\"dataframe\">\n",
       "  <thead>\n",
       "    <tr style=\"text-align: right;\">\n",
       "      <th></th>\n",
       "      <th>Journal title</th>\n",
       "      <th>Journal ISSN (print version)</th>\n",
       "      <th>Journal EISSN (online version)</th>\n",
       "      <th>Languages in which the journal accepts manuscripts</th>\n",
       "      <th>Publisher</th>\n",
       "      <th>DOAJ Seal</th>\n",
       "      <th>Journal license</th>\n",
       "      <th>APC</th>\n",
       "    </tr>\n",
       "  </thead>\n",
       "  <tbody>\n",
       "    <tr>\n",
       "      <th>0</th>\n",
       "      <td>Prolíngua</td>\n",
       "      <td>NaN</td>\n",
       "      <td>1983-9979</td>\n",
       "      <td>Portuguese</td>\n",
       "      <td>Universidade Federal da Paraíba</td>\n",
       "      <td>No</td>\n",
       "      <td>CC BY-NC-SA</td>\n",
       "      <td>No</td>\n",
       "    </tr>\n",
       "    <tr>\n",
       "      <th>1</th>\n",
       "      <td>Проблеми Законності</td>\n",
       "      <td>2224-9281</td>\n",
       "      <td>2414-990X</td>\n",
       "      <td>Ukrainian, Russian, English</td>\n",
       "      <td>Yaroslav Mudryi National Law University</td>\n",
       "      <td>No</td>\n",
       "      <td>CC BY</td>\n",
       "      <td>Yes</td>\n",
       "    </tr>\n",
       "    <tr>\n",
       "      <th>2</th>\n",
       "      <td>Enlightening Tourism: A Pathmaking Journal</td>\n",
       "      <td>NaN</td>\n",
       "      <td>2174-548X</td>\n",
       "      <td>English</td>\n",
       "      <td>University of Huelva</td>\n",
       "      <td>No</td>\n",
       "      <td>CC BY-NC</td>\n",
       "      <td>No</td>\n",
       "    </tr>\n",
       "    <tr>\n",
       "      <th>3</th>\n",
       "      <td>Scientific Journals of the Maritime University...</td>\n",
       "      <td>1733-8670</td>\n",
       "      <td>2392-0378</td>\n",
       "      <td>English</td>\n",
       "      <td>MUS</td>\n",
       "      <td>No</td>\n",
       "      <td>CC BY</td>\n",
       "      <td>Yes</td>\n",
       "    </tr>\n",
       "    <tr>\n",
       "      <th>4</th>\n",
       "      <td>Fronteiras: Journal of Social, Technological a...</td>\n",
       "      <td>NaN</td>\n",
       "      <td>2238-8869</td>\n",
       "      <td>Portuguese</td>\n",
       "      <td>Centro Universitário de Anápolis</td>\n",
       "      <td>No</td>\n",
       "      <td>CC BY-NC</td>\n",
       "      <td>No</td>\n",
       "    </tr>\n",
       "  </tbody>\n",
       "</table>\n",
       "</div>"
      ],
      "text/plain": [
       "                                       Journal title  \\\n",
       "0                                          Prolíngua   \n",
       "1                                Проблеми Законності   \n",
       "2         Enlightening Tourism: A Pathmaking Journal   \n",
       "3  Scientific Journals of the Maritime University...   \n",
       "4  Fronteiras: Journal of Social, Technological a...   \n",
       "\n",
       "  Journal ISSN (print version) Journal EISSN (online version)  \\\n",
       "0                          NaN                      1983-9979   \n",
       "1                    2224-9281                      2414-990X   \n",
       "2                          NaN                      2174-548X   \n",
       "3                    1733-8670                      2392-0378   \n",
       "4                          NaN                      2238-8869   \n",
       "\n",
       "  Languages in which the journal accepts manuscripts  \\\n",
       "0                                         Portuguese   \n",
       "1                        Ukrainian, Russian, English   \n",
       "2                                            English   \n",
       "3                                            English   \n",
       "4                                         Portuguese   \n",
       "\n",
       "                                 Publisher DOAJ Seal Journal license  APC  \n",
       "0          Universidade Federal da Paraíba        No     CC BY-NC-SA   No  \n",
       "1  Yaroslav Mudryi National Law University        No           CC BY  Yes  \n",
       "2                     University of Huelva        No        CC BY-NC   No  \n",
       "3                                      MUS        No           CC BY  Yes  \n",
       "4         Centro Universitário de Anápolis        No        CC BY-NC   No  "
      ]
     },
     "execution_count": 14,
     "metadata": {},
     "output_type": "execute_result"
    }
   ],
   "source": [
    "import pandas as pd\n",
    "\n",
    "df = pd.read_csv(CSV_PATH)\n",
    "df.head(5)"
   ]
  },
  {
   "cell_type": "code",
   "execution_count": 15,
   "id": "dda7db3e",
   "metadata": {},
   "outputs": [
    {
     "data": {
      "text/plain": [
       "Index(['Journal title', 'Journal ISSN (print version)',\n",
       "       'Journal EISSN (online version)',\n",
       "       'Languages in which the journal accepts manuscripts', 'Publisher',\n",
       "       'DOAJ Seal', 'Journal license', 'APC'],\n",
       "      dtype='object')"
      ]
     },
     "execution_count": 15,
     "metadata": {},
     "output_type": "execute_result"
    }
   ],
   "source": [
    "df.columns"
   ]
  },
  {
   "cell_type": "code",
   "execution_count": 16,
   "id": "7d27927e",
   "metadata": {},
   "outputs": [
    {
     "data": {
      "text/plain": [
       "Index(['Journal title', 'Languages in which the journal accepts manuscripts',\n",
       "       'Publisher', 'DOAJ Seal', 'Journal license', 'APC'],\n",
       "      dtype='object')"
      ]
     },
     "execution_count": 16,
     "metadata": {},
     "output_type": "execute_result"
    }
   ],
   "source": [
    "df = df.drop(['Journal ISSN (print version)',\n",
    "       'Journal EISSN (online version)'], axis=1)\n",
    "df.columns"
   ]
  },
  {
   "cell_type": "code",
   "execution_count": 17,
   "id": "331ab82d",
   "metadata": {},
   "outputs": [
    {
     "data": {
      "application/vnd.microsoft.datawrangler.viewer.v0+json": {
       "columns": [
        {
         "name": "index",
         "rawType": "int64",
         "type": "integer"
        },
        {
         "name": "Journal title",
         "rawType": "object",
         "type": "string"
        },
        {
         "name": "Languages in which the journal accepts manuscripts",
         "rawType": "object",
         "type": "string"
        },
        {
         "name": "Publisher",
         "rawType": "object",
         "type": "string"
        },
        {
         "name": "DOAJ Seal",
         "rawType": "object",
         "type": "string"
        },
        {
         "name": "Journal license",
         "rawType": "object",
         "type": "string"
        },
        {
         "name": "APC",
         "rawType": "object",
         "type": "string"
        }
       ],
       "conversionMethod": "pd.DataFrame",
       "ref": "dff2459d-b43f-42d6-bab8-4be0bcf6e71c",
       "rows": [
        [
         "0",
         "Prolíngua",
         "Portuguese",
         "Universidade Federal da Paraíba",
         "No",
         "CC BY-NC-SA",
         "No"
        ],
        [
         "1",
         "Проблеми Законності",
         "Ukrainian, Russian, English",
         "Yaroslav Mudryi National Law University",
         "No",
         "CC BY",
         "Yes"
        ],
        [
         "2",
         "Enlightening Tourism: A Pathmaking Journal",
         "English",
         "University of Huelva",
         "No",
         "CC BY-NC",
         "No"
        ],
        [
         "3",
         "Scientific Journals of the Maritime University of Szczecin",
         "English",
         "MUS",
         "No",
         "CC BY",
         "Yes"
        ],
        [
         "4",
         "Fronteiras: Journal of Social, Technological and Environmental Science",
         "Portuguese",
         "Centro Universitário de Anápolis",
         "No",
         "CC BY-NC",
         "No"
        ],
        [
         "5",
         "Semina: Ciências Agrárias",
         "Portuguese, English",
         "Universidade Estadual de Londrina",
         "No",
         "Publisher's own license",
         "Yes"
        ]
       ],
       "shape": {
        "columns": 6,
        "rows": 6
       }
      },
      "text/html": [
       "<div>\n",
       "<style scoped>\n",
       "    .dataframe tbody tr th:only-of-type {\n",
       "        vertical-align: middle;\n",
       "    }\n",
       "\n",
       "    .dataframe tbody tr th {\n",
       "        vertical-align: top;\n",
       "    }\n",
       "\n",
       "    .dataframe thead th {\n",
       "        text-align: right;\n",
       "    }\n",
       "</style>\n",
       "<table border=\"1\" class=\"dataframe\">\n",
       "  <thead>\n",
       "    <tr style=\"text-align: right;\">\n",
       "      <th></th>\n",
       "      <th>Journal title</th>\n",
       "      <th>Languages in which the journal accepts manuscripts</th>\n",
       "      <th>Publisher</th>\n",
       "      <th>DOAJ Seal</th>\n",
       "      <th>Journal license</th>\n",
       "      <th>APC</th>\n",
       "    </tr>\n",
       "  </thead>\n",
       "  <tbody>\n",
       "    <tr>\n",
       "      <th>0</th>\n",
       "      <td>Prolíngua</td>\n",
       "      <td>Portuguese</td>\n",
       "      <td>Universidade Federal da Paraíba</td>\n",
       "      <td>No</td>\n",
       "      <td>CC BY-NC-SA</td>\n",
       "      <td>No</td>\n",
       "    </tr>\n",
       "    <tr>\n",
       "      <th>1</th>\n",
       "      <td>Проблеми Законності</td>\n",
       "      <td>Ukrainian, Russian, English</td>\n",
       "      <td>Yaroslav Mudryi National Law University</td>\n",
       "      <td>No</td>\n",
       "      <td>CC BY</td>\n",
       "      <td>Yes</td>\n",
       "    </tr>\n",
       "    <tr>\n",
       "      <th>2</th>\n",
       "      <td>Enlightening Tourism: A Pathmaking Journal</td>\n",
       "      <td>English</td>\n",
       "      <td>University of Huelva</td>\n",
       "      <td>No</td>\n",
       "      <td>CC BY-NC</td>\n",
       "      <td>No</td>\n",
       "    </tr>\n",
       "    <tr>\n",
       "      <th>3</th>\n",
       "      <td>Scientific Journals of the Maritime University...</td>\n",
       "      <td>English</td>\n",
       "      <td>MUS</td>\n",
       "      <td>No</td>\n",
       "      <td>CC BY</td>\n",
       "      <td>Yes</td>\n",
       "    </tr>\n",
       "    <tr>\n",
       "      <th>4</th>\n",
       "      <td>Fronteiras: Journal of Social, Technological a...</td>\n",
       "      <td>Portuguese</td>\n",
       "      <td>Centro Universitário de Anápolis</td>\n",
       "      <td>No</td>\n",
       "      <td>CC BY-NC</td>\n",
       "      <td>No</td>\n",
       "    </tr>\n",
       "    <tr>\n",
       "      <th>5</th>\n",
       "      <td>Semina: Ciências Agrárias</td>\n",
       "      <td>Portuguese, English</td>\n",
       "      <td>Universidade Estadual de Londrina</td>\n",
       "      <td>No</td>\n",
       "      <td>Publisher's own license</td>\n",
       "      <td>Yes</td>\n",
       "    </tr>\n",
       "  </tbody>\n",
       "</table>\n",
       "</div>"
      ],
      "text/plain": [
       "                                       Journal title  \\\n",
       "0                                          Prolíngua   \n",
       "1                                Проблеми Законності   \n",
       "2         Enlightening Tourism: A Pathmaking Journal   \n",
       "3  Scientific Journals of the Maritime University...   \n",
       "4  Fronteiras: Journal of Social, Technological a...   \n",
       "5                          Semina: Ciências Agrárias   \n",
       "\n",
       "  Languages in which the journal accepts manuscripts  \\\n",
       "0                                         Portuguese   \n",
       "1                        Ukrainian, Russian, English   \n",
       "2                                            English   \n",
       "3                                            English   \n",
       "4                                         Portuguese   \n",
       "5                                Portuguese, English   \n",
       "\n",
       "                                 Publisher DOAJ Seal          Journal license  \\\n",
       "0          Universidade Federal da Paraíba        No              CC BY-NC-SA   \n",
       "1  Yaroslav Mudryi National Law University        No                    CC BY   \n",
       "2                     University of Huelva        No                 CC BY-NC   \n",
       "3                                      MUS        No                    CC BY   \n",
       "4         Centro Universitário de Anápolis        No                 CC BY-NC   \n",
       "5        Universidade Estadual de Londrina        No  Publisher's own license   \n",
       "\n",
       "   APC  \n",
       "0   No  \n",
       "1  Yes  \n",
       "2   No  \n",
       "3  Yes  \n",
       "4   No  \n",
       "5  Yes  "
      ]
     },
     "execution_count": 17,
     "metadata": {},
     "output_type": "execute_result"
    }
   ],
   "source": [
    "df = df.head(6)\n",
    "df"
   ]
  },
  {
   "cell_type": "code",
   "execution_count": 23,
   "id": "53433827",
   "metadata": {},
   "outputs": [
    {
     "name": "stdout",
     "output_type": "stream",
     "text": [
      "                                                            Journal title Languages in which the journal accepts manuscripts                                Publisher DOAJ Seal          Journal license  APC\n",
      "0                                                               Prolíngua                                         Portuguese          Universidade Federal da Paraíba        No              CC BY-NC-SA   No\n",
      "1                                                     Проблеми Законності                        Ukrainian, Russian, English  Yaroslav Mudryi National Law University        No                    CC BY  Yes\n",
      "2                              Enlightening Tourism: A Pathmaking Journal                                            English                     University of Huelva        No                 CC BY-NC   No\n",
      "3              Scientific Journals of the Maritime University of Szczecin                                            English                                      MUS        No                    CC BY  Yes\n",
      "4  Fronteiras: Journal of Social, Technological and Environmental Science                                         Portuguese         Centro Universitário de Anápolis        No                 CC BY-NC   No\n",
      "5                                               Semina: Ciências Agrárias                                Portuguese, English        Universidade Estadual de Londrina        No  Publisher's own license  Yes\n"
     ]
    }
   ],
   "source": [
    "print(df.to_string())"
   ]
  }
 ],
 "metadata": {
  "kernelspec": {
   "display_name": "edo_venv",
   "language": "python",
   "name": "python3"
  },
  "language_info": {
   "codemirror_mode": {
    "name": "ipython",
    "version": 3
   },
   "file_extension": ".py",
   "mimetype": "text/x-python",
   "name": "python",
   "nbconvert_exporter": "python",
   "pygments_lexer": "ipython3",
   "version": "3.11.9"
  }
 },
 "nbformat": 4,
 "nbformat_minor": 5
}
